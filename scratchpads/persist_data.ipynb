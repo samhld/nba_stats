{
 "cells": [
  {
   "cell_type": "code",
   "execution_count": 1,
   "id": "military-citizen",
   "metadata": {},
   "outputs": [],
   "source": [
    "import sqlite3\n",
    "import sys\n",
    "import requests_cache\n",
    "import pandas as pd"
   ]
  },
  {
   "cell_type": "code",
   "execution_count": 2,
   "id": "signed-furniture",
   "metadata": {},
   "outputs": [],
   "source": [
    "sys.path.insert(0, \"/Users/samdillard/python/github.com/samhld/nba_stats/app/\")\n",
    "requests_cache.install_cache('request_cache')"
   ]
  },
  {
   "cell_type": "code",
   "execution_count": 3,
   "id": "apart-keyboard",
   "metadata": {},
   "outputs": [],
   "source": [
    "from scraper import getters\n",
    "from preprocessor import builders"
   ]
  },
  {
   "cell_type": "code",
   "execution_count": 4,
   "id": "black-funds",
   "metadata": {},
   "outputs": [
    {
     "ename": "KeyboardInterrupt",
     "evalue": "",
     "output_type": "error",
     "traceback": [
      "\u001b[0;31m---------------------------------------------------------------------------\u001b[0m",
      "\u001b[0;31mKeyboardInterrupt\u001b[0m                         Traceback (most recent call last)",
      "\u001b[0;32m<ipython-input-4-440e64d75838>\u001b[0m in \u001b[0;36m<module>\u001b[0;34m\u001b[0m\n\u001b[0;32m----> 1\u001b[0;31m \u001b[0mfirst_400\u001b[0m \u001b[0;34m=\u001b[0m \u001b[0mbuilders\u001b[0m\u001b[0;34m.\u001b[0m\u001b[0mcreate_all_player_stats_df\u001b[0m\u001b[0;34m(\u001b[0m\u001b[0msegment\u001b[0m\u001b[0;34m=\u001b[0m\u001b[0mslice\u001b[0m\u001b[0;34m(\u001b[0m\u001b[0;36m0\u001b[0m\u001b[0;34m,\u001b[0m\u001b[0;36m500\u001b[0m\u001b[0;34m)\u001b[0m\u001b[0;34m)\u001b[0m\u001b[0;34m\u001b[0m\u001b[0;34m\u001b[0m\u001b[0m\n\u001b[0m",
      "\u001b[0;32m~/python/github.com/samhld/nba_stats/app/preprocessor/builders.py\u001b[0m in \u001b[0;36mcreate_all_player_stats_df\u001b[0;34m(stat, segment)\u001b[0m\n\u001b[1;32m     67\u001b[0m     \u001b[0;32mfor\u001b[0m \u001b[0murl\u001b[0m \u001b[0;32min\u001b[0m \u001b[0mget_full_player_urls\u001b[0m\u001b[0;34m(\u001b[0m\u001b[0msegment\u001b[0m\u001b[0;34m)\u001b[0m\u001b[0;34m:\u001b[0m\u001b[0;34m\u001b[0m\u001b[0;34m\u001b[0m\u001b[0m\n\u001b[1;32m     68\u001b[0m \u001b[0;34m\u001b[0m\u001b[0m\n\u001b[0;32m---> 69\u001b[0;31m         \u001b[0mplayer_stats_dfs\u001b[0m\u001b[0;34m.\u001b[0m\u001b[0mappend\u001b[0m\u001b[0;34m(\u001b[0m\u001b[0mcreate_player_stats_df\u001b[0m\u001b[0;34m(\u001b[0m\u001b[0murl\u001b[0m\u001b[0;34m,\u001b[0m \u001b[0mstat\u001b[0m\u001b[0;34m)\u001b[0m\u001b[0;34m)\u001b[0m\u001b[0;34m\u001b[0m\u001b[0;34m\u001b[0m\u001b[0m\n\u001b[0m\u001b[1;32m     70\u001b[0m         \u001b[0mtime\u001b[0m\u001b[0;34m.\u001b[0m\u001b[0msleep\u001b[0m\u001b[0;34m(\u001b[0m\u001b[0;36m.5\u001b[0m\u001b[0;34m)\u001b[0m\u001b[0;34m\u001b[0m\u001b[0;34m\u001b[0m\u001b[0m\n\u001b[1;32m     71\u001b[0m     \u001b[0mall_player_stats_df\u001b[0m \u001b[0;34m=\u001b[0m \u001b[0mpd\u001b[0m\u001b[0;34m.\u001b[0m\u001b[0mconcat\u001b[0m\u001b[0;34m(\u001b[0m\u001b[0mplayer_stats_dfs\u001b[0m\u001b[0;34m)\u001b[0m \u001b[0;31m# persist player_dict so don't have to call func each time\u001b[0m\u001b[0;34m\u001b[0m\u001b[0;34m\u001b[0m\u001b[0m\n",
      "\u001b[0;32m~/python/github.com/samhld/nba_stats/app/preprocessor/builders.py\u001b[0m in \u001b[0;36mcreate_player_stats_df\u001b[0;34m(player_url, stat)\u001b[0m\n\u001b[1;32m     49\u001b[0m         \u001b[0mplayer_df\u001b[0m \u001b[0;34m=\u001b[0m \u001b[0mplayer_stats\u001b[0m\u001b[0;34m(\u001b[0m\u001b[0mres\u001b[0m\u001b[0;34m,\u001b[0m \u001b[0mstat\u001b[0m\u001b[0;34m)\u001b[0m\u001b[0;34m\u001b[0m\u001b[0;34m\u001b[0m\u001b[0m\n\u001b[1;32m     50\u001b[0m         \u001b[0;31m# Get player name at player_url\u001b[0m\u001b[0;34m\u001b[0m\u001b[0;34m\u001b[0m\u001b[0;34m\u001b[0m\u001b[0m\n\u001b[0;32m---> 51\u001b[0;31m         \u001b[0msoup\u001b[0m \u001b[0;34m=\u001b[0m \u001b[0mBeautifulSoup\u001b[0m\u001b[0;34m(\u001b[0m\u001b[0mres\u001b[0m\u001b[0;34m.\u001b[0m\u001b[0mtext\u001b[0m\u001b[0;34m,\u001b[0m \u001b[0;34m\"lxml\"\u001b[0m\u001b[0;34m)\u001b[0m\u001b[0;34m\u001b[0m\u001b[0;34m\u001b[0m\u001b[0m\n\u001b[0m\u001b[1;32m     52\u001b[0m         \u001b[0m_player\u001b[0m \u001b[0;34m=\u001b[0m \u001b[0msoup\u001b[0m\u001b[0;34m.\u001b[0m\u001b[0mfind\u001b[0m\u001b[0;34m(\u001b[0m\u001b[0;34m\"h1\"\u001b[0m\u001b[0;34m)\u001b[0m\u001b[0;34m.\u001b[0m\u001b[0mtext\u001b[0m\u001b[0;34m.\u001b[0m\u001b[0mstrip\u001b[0m\u001b[0;34m(\u001b[0m\u001b[0;34m)\u001b[0m\u001b[0;34m\u001b[0m\u001b[0;34m\u001b[0m\u001b[0m\n\u001b[1;32m     53\u001b[0m         \u001b[0;31m# Create two levels for MultiIndex\u001b[0m\u001b[0;34m\u001b[0m\u001b[0;34m\u001b[0m\u001b[0;34m\u001b[0m\u001b[0m\n",
      "\u001b[0;32m~/.local/share/virtualenvs/nba_stats-7HmuDRvH/lib/python3.8/site-packages/bs4/__init__.py\u001b[0m in \u001b[0;36m__init__\u001b[0;34m(self, markup, features, builder, parse_only, from_encoding, exclude_encodings, element_classes, **kwargs)\u001b[0m\n\u001b[1;32m    346\u001b[0m             \u001b[0mself\u001b[0m\u001b[0;34m.\u001b[0m\u001b[0mreset\u001b[0m\u001b[0;34m(\u001b[0m\u001b[0;34m)\u001b[0m\u001b[0;34m\u001b[0m\u001b[0;34m\u001b[0m\u001b[0m\n\u001b[1;32m    347\u001b[0m             \u001b[0;32mtry\u001b[0m\u001b[0;34m:\u001b[0m\u001b[0;34m\u001b[0m\u001b[0;34m\u001b[0m\u001b[0m\n\u001b[0;32m--> 348\u001b[0;31m                 \u001b[0mself\u001b[0m\u001b[0;34m.\u001b[0m\u001b[0m_feed\u001b[0m\u001b[0;34m(\u001b[0m\u001b[0;34m)\u001b[0m\u001b[0;34m\u001b[0m\u001b[0;34m\u001b[0m\u001b[0m\n\u001b[0m\u001b[1;32m    349\u001b[0m                 \u001b[0msuccess\u001b[0m \u001b[0;34m=\u001b[0m \u001b[0;32mTrue\u001b[0m\u001b[0;34m\u001b[0m\u001b[0;34m\u001b[0m\u001b[0m\n\u001b[1;32m    350\u001b[0m                 \u001b[0;32mbreak\u001b[0m\u001b[0;34m\u001b[0m\u001b[0;34m\u001b[0m\u001b[0m\n",
      "\u001b[0;32m~/.local/share/virtualenvs/nba_stats-7HmuDRvH/lib/python3.8/site-packages/bs4/__init__.py\u001b[0m in \u001b[0;36m_feed\u001b[0;34m(self)\u001b[0m\n\u001b[1;32m    432\u001b[0m         \u001b[0mself\u001b[0m\u001b[0;34m.\u001b[0m\u001b[0mbuilder\u001b[0m\u001b[0;34m.\u001b[0m\u001b[0mreset\u001b[0m\u001b[0;34m(\u001b[0m\u001b[0;34m)\u001b[0m\u001b[0;34m\u001b[0m\u001b[0;34m\u001b[0m\u001b[0m\n\u001b[1;32m    433\u001b[0m \u001b[0;34m\u001b[0m\u001b[0m\n\u001b[0;32m--> 434\u001b[0;31m         \u001b[0mself\u001b[0m\u001b[0;34m.\u001b[0m\u001b[0mbuilder\u001b[0m\u001b[0;34m.\u001b[0m\u001b[0mfeed\u001b[0m\u001b[0;34m(\u001b[0m\u001b[0mself\u001b[0m\u001b[0;34m.\u001b[0m\u001b[0mmarkup\u001b[0m\u001b[0;34m)\u001b[0m\u001b[0;34m\u001b[0m\u001b[0;34m\u001b[0m\u001b[0m\n\u001b[0m\u001b[1;32m    435\u001b[0m         \u001b[0;31m# Close out any unfinished strings and close all the open tags.\u001b[0m\u001b[0;34m\u001b[0m\u001b[0;34m\u001b[0m\u001b[0;34m\u001b[0m\u001b[0m\n\u001b[1;32m    436\u001b[0m         \u001b[0mself\u001b[0m\u001b[0;34m.\u001b[0m\u001b[0mendData\u001b[0m\u001b[0;34m(\u001b[0m\u001b[0;34m)\u001b[0m\u001b[0;34m\u001b[0m\u001b[0;34m\u001b[0m\u001b[0m\n",
      "\u001b[0;32m~/.local/share/virtualenvs/nba_stats-7HmuDRvH/lib/python3.8/site-packages/bs4/builder/_lxml.py\u001b[0m in \u001b[0;36mfeed\u001b[0;34m(self, markup)\u001b[0m\n\u001b[1;32m    322\u001b[0m         \u001b[0;32mtry\u001b[0m\u001b[0;34m:\u001b[0m\u001b[0;34m\u001b[0m\u001b[0;34m\u001b[0m\u001b[0m\n\u001b[1;32m    323\u001b[0m             \u001b[0mself\u001b[0m\u001b[0;34m.\u001b[0m\u001b[0mparser\u001b[0m \u001b[0;34m=\u001b[0m \u001b[0mself\u001b[0m\u001b[0;34m.\u001b[0m\u001b[0mparser_for\u001b[0m\u001b[0;34m(\u001b[0m\u001b[0mencoding\u001b[0m\u001b[0;34m)\u001b[0m\u001b[0;34m\u001b[0m\u001b[0;34m\u001b[0m\u001b[0m\n\u001b[0;32m--> 324\u001b[0;31m             \u001b[0mself\u001b[0m\u001b[0;34m.\u001b[0m\u001b[0mparser\u001b[0m\u001b[0;34m.\u001b[0m\u001b[0mfeed\u001b[0m\u001b[0;34m(\u001b[0m\u001b[0mmarkup\u001b[0m\u001b[0;34m)\u001b[0m\u001b[0;34m\u001b[0m\u001b[0;34m\u001b[0m\u001b[0m\n\u001b[0m\u001b[1;32m    325\u001b[0m             \u001b[0mself\u001b[0m\u001b[0;34m.\u001b[0m\u001b[0mparser\u001b[0m\u001b[0;34m.\u001b[0m\u001b[0mclose\u001b[0m\u001b[0;34m(\u001b[0m\u001b[0;34m)\u001b[0m\u001b[0;34m\u001b[0m\u001b[0;34m\u001b[0m\u001b[0m\n\u001b[1;32m    326\u001b[0m         \u001b[0;32mexcept\u001b[0m \u001b[0;34m(\u001b[0m\u001b[0mUnicodeDecodeError\u001b[0m\u001b[0;34m,\u001b[0m \u001b[0mLookupError\u001b[0m\u001b[0;34m,\u001b[0m \u001b[0metree\u001b[0m\u001b[0;34m.\u001b[0m\u001b[0mParserError\u001b[0m\u001b[0;34m)\u001b[0m \u001b[0;32mas\u001b[0m \u001b[0me\u001b[0m\u001b[0;34m:\u001b[0m\u001b[0;34m\u001b[0m\u001b[0;34m\u001b[0m\u001b[0m\n",
      "\u001b[0;32msrc/lxml/parser.pxi\u001b[0m in \u001b[0;36mlxml.etree._FeedParser.feed\u001b[0;34m()\u001b[0m\n",
      "\u001b[0;32msrc/lxml/parser.pxi\u001b[0m in \u001b[0;36mlxml.etree._FeedParser.feed\u001b[0;34m()\u001b[0m\n",
      "\u001b[0;32msrc/lxml/parsertarget.pxi\u001b[0m in \u001b[0;36mlxml.etree._TargetParserContext._handleParseResult\u001b[0;34m()\u001b[0m\n",
      "\u001b[0;32msrc/lxml/parsertarget.pxi\u001b[0m in \u001b[0;36mlxml.etree._TargetParserContext._handleParseResult\u001b[0;34m()\u001b[0m\n",
      "\u001b[0;32msrc/lxml/etree.pyx\u001b[0m in \u001b[0;36mlxml.etree._ExceptionContext._raise_if_stored\u001b[0;34m()\u001b[0m\n",
      "\u001b[0;32msrc/lxml/saxparser.pxi\u001b[0m in \u001b[0;36mlxml.etree._handleSaxEndNoNs\u001b[0;34m()\u001b[0m\n",
      "\u001b[0;32msrc/lxml/parsertarget.pxi\u001b[0m in \u001b[0;36mlxml.etree._PythonSaxParserTarget._handleSaxEnd\u001b[0;34m()\u001b[0m\n",
      "\u001b[0;32m~/.local/share/virtualenvs/nba_stats-7HmuDRvH/lib/python3.8/site-packages/bs4/builder/_lxml.py\u001b[0m in \u001b[0;36mend\u001b[0;34m(self, name)\u001b[0m\n\u001b[1;32m    276\u001b[0m                     \u001b[0mnsprefix\u001b[0m \u001b[0;34m=\u001b[0m \u001b[0minverted_nsmap\u001b[0m\u001b[0;34m[\u001b[0m\u001b[0mnamespace\u001b[0m\u001b[0;34m]\u001b[0m\u001b[0;34m\u001b[0m\u001b[0;34m\u001b[0m\u001b[0m\n\u001b[1;32m    277\u001b[0m                     \u001b[0;32mbreak\u001b[0m\u001b[0;34m\u001b[0m\u001b[0;34m\u001b[0m\u001b[0m\n\u001b[0;32m--> 278\u001b[0;31m         \u001b[0mself\u001b[0m\u001b[0;34m.\u001b[0m\u001b[0msoup\u001b[0m\u001b[0;34m.\u001b[0m\u001b[0mhandle_endtag\u001b[0m\u001b[0;34m(\u001b[0m\u001b[0mname\u001b[0m\u001b[0;34m,\u001b[0m \u001b[0mnsprefix\u001b[0m\u001b[0;34m)\u001b[0m\u001b[0;34m\u001b[0m\u001b[0;34m\u001b[0m\u001b[0m\n\u001b[0m\u001b[1;32m    279\u001b[0m         \u001b[0;32mif\u001b[0m \u001b[0mlen\u001b[0m\u001b[0;34m(\u001b[0m\u001b[0mself\u001b[0m\u001b[0;34m.\u001b[0m\u001b[0mnsmaps\u001b[0m\u001b[0;34m)\u001b[0m \u001b[0;34m>\u001b[0m \u001b[0;36m1\u001b[0m\u001b[0;34m:\u001b[0m\u001b[0;34m\u001b[0m\u001b[0;34m\u001b[0m\u001b[0m\n\u001b[1;32m    280\u001b[0m             \u001b[0;31m# This tag, or one of its parents, introduced a namespace\u001b[0m\u001b[0;34m\u001b[0m\u001b[0;34m\u001b[0m\u001b[0;34m\u001b[0m\u001b[0m\n",
      "\u001b[0;32m~/.local/share/virtualenvs/nba_stats-7HmuDRvH/lib/python3.8/site-packages/bs4/__init__.py\u001b[0m in \u001b[0;36mhandle_endtag\u001b[0;34m(self, name, nsprefix)\u001b[0m\n\u001b[1;32m    722\u001b[0m         \u001b[0;31m#print(\"End tag: \" + name)\u001b[0m\u001b[0;34m\u001b[0m\u001b[0;34m\u001b[0m\u001b[0;34m\u001b[0m\u001b[0m\n\u001b[1;32m    723\u001b[0m         \u001b[0mself\u001b[0m\u001b[0;34m.\u001b[0m\u001b[0mendData\u001b[0m\u001b[0;34m(\u001b[0m\u001b[0;34m)\u001b[0m\u001b[0;34m\u001b[0m\u001b[0;34m\u001b[0m\u001b[0m\n\u001b[0;32m--> 724\u001b[0;31m         \u001b[0mself\u001b[0m\u001b[0;34m.\u001b[0m\u001b[0m_popToTag\u001b[0m\u001b[0;34m(\u001b[0m\u001b[0mname\u001b[0m\u001b[0;34m,\u001b[0m \u001b[0mnsprefix\u001b[0m\u001b[0;34m)\u001b[0m\u001b[0;34m\u001b[0m\u001b[0;34m\u001b[0m\u001b[0m\n\u001b[0m\u001b[1;32m    725\u001b[0m \u001b[0;34m\u001b[0m\u001b[0m\n\u001b[1;32m    726\u001b[0m     \u001b[0;32mdef\u001b[0m \u001b[0mhandle_data\u001b[0m\u001b[0;34m(\u001b[0m\u001b[0mself\u001b[0m\u001b[0;34m,\u001b[0m \u001b[0mdata\u001b[0m\u001b[0;34m)\u001b[0m\u001b[0;34m:\u001b[0m\u001b[0;34m\u001b[0m\u001b[0;34m\u001b[0m\u001b[0m\n",
      "\u001b[0;32m~/.local/share/virtualenvs/nba_stats-7HmuDRvH/lib/python3.8/site-packages/bs4/__init__.py\u001b[0m in \u001b[0;36m_popToTag\u001b[0;34m(self, name, nsprefix, inclusivePop)\u001b[0m\n\u001b[1;32m    670\u001b[0m             \u001b[0;32mif\u001b[0m \u001b[0;34m(\u001b[0m\u001b[0mname\u001b[0m \u001b[0;34m==\u001b[0m \u001b[0mt\u001b[0m\u001b[0;34m.\u001b[0m\u001b[0mname\u001b[0m \u001b[0;32mand\u001b[0m \u001b[0mnsprefix\u001b[0m \u001b[0;34m==\u001b[0m \u001b[0mt\u001b[0m\u001b[0;34m.\u001b[0m\u001b[0mprefix\u001b[0m\u001b[0;34m)\u001b[0m\u001b[0;34m:\u001b[0m\u001b[0;34m\u001b[0m\u001b[0;34m\u001b[0m\u001b[0m\n\u001b[1;32m    671\u001b[0m                 \u001b[0;32mif\u001b[0m \u001b[0minclusivePop\u001b[0m\u001b[0;34m:\u001b[0m\u001b[0;34m\u001b[0m\u001b[0;34m\u001b[0m\u001b[0m\n\u001b[0;32m--> 672\u001b[0;31m                     \u001b[0mmost_recently_popped\u001b[0m \u001b[0;34m=\u001b[0m \u001b[0mself\u001b[0m\u001b[0;34m.\u001b[0m\u001b[0mpopTag\u001b[0m\u001b[0;34m(\u001b[0m\u001b[0;34m)\u001b[0m\u001b[0;34m\u001b[0m\u001b[0;34m\u001b[0m\u001b[0m\n\u001b[0m\u001b[1;32m    673\u001b[0m                 \u001b[0;32mbreak\u001b[0m\u001b[0;34m\u001b[0m\u001b[0;34m\u001b[0m\u001b[0m\n\u001b[1;32m    674\u001b[0m             \u001b[0mmost_recently_popped\u001b[0m \u001b[0;34m=\u001b[0m \u001b[0mself\u001b[0m\u001b[0;34m.\u001b[0m\u001b[0mpopTag\u001b[0m\u001b[0;34m(\u001b[0m\u001b[0;34m)\u001b[0m\u001b[0;34m\u001b[0m\u001b[0;34m\u001b[0m\u001b[0m\n",
      "\u001b[0;32m~/.local/share/virtualenvs/nba_stats-7HmuDRvH/lib/python3.8/site-packages/bs4/__init__.py\u001b[0m in \u001b[0;36mpopTag\u001b[0;34m(self)\u001b[0m\n\u001b[1;32m    523\u001b[0m         \u001b[0;32mif\u001b[0m \u001b[0mself\u001b[0m\u001b[0;34m.\u001b[0m\u001b[0mtagStack\u001b[0m\u001b[0;34m:\u001b[0m\u001b[0;34m\u001b[0m\u001b[0;34m\u001b[0m\u001b[0m\n\u001b[1;32m    524\u001b[0m             \u001b[0mself\u001b[0m\u001b[0;34m.\u001b[0m\u001b[0mcurrentTag\u001b[0m \u001b[0;34m=\u001b[0m \u001b[0mself\u001b[0m\u001b[0;34m.\u001b[0m\u001b[0mtagStack\u001b[0m\u001b[0;34m[\u001b[0m\u001b[0;34m-\u001b[0m\u001b[0;36m1\u001b[0m\u001b[0;34m]\u001b[0m\u001b[0;34m\u001b[0m\u001b[0;34m\u001b[0m\u001b[0m\n\u001b[0;32m--> 525\u001b[0;31m         \u001b[0;32mreturn\u001b[0m \u001b[0mself\u001b[0m\u001b[0;34m.\u001b[0m\u001b[0mcurrentTag\u001b[0m\u001b[0;34m\u001b[0m\u001b[0;34m\u001b[0m\u001b[0m\n\u001b[0m\u001b[1;32m    526\u001b[0m \u001b[0;34m\u001b[0m\u001b[0m\n\u001b[1;32m    527\u001b[0m     \u001b[0;32mdef\u001b[0m \u001b[0mpushTag\u001b[0m\u001b[0;34m(\u001b[0m\u001b[0mself\u001b[0m\u001b[0;34m,\u001b[0m \u001b[0mtag\u001b[0m\u001b[0;34m)\u001b[0m\u001b[0;34m:\u001b[0m\u001b[0;34m\u001b[0m\u001b[0;34m\u001b[0m\u001b[0m\n",
      "\u001b[0;31mKeyboardInterrupt\u001b[0m: "
     ]
    }
   ],
   "source": [
    "first_400 = builders.create_all_player_stats_df(segment=slice(0,500))"
   ]
  },
  {
   "cell_type": "code",
   "execution_count": null,
   "id": "together-virus",
   "metadata": {
    "scrolled": true
   },
   "outputs": [],
   "source": [
    "first_400.index.names"
   ]
  },
  {
   "cell_type": "code",
   "execution_count": null,
   "id": "political-topic",
   "metadata": {},
   "outputs": [],
   "source": [
    "conn = sqlite3.connect(\"../app/dbs/first_50.db\")\n",
    "c = conn.cursor()\n",
    "c.execute(\"DROP TABLE IF EXISTS players_per_game\")"
   ]
  },
  {
   "cell_type": "code",
   "execution_count": null,
   "id": "stylish-animal",
   "metadata": {},
   "outputs": [],
   "source": [
    "first_400.to_sql(\"players_per_game\",conn)"
   ]
  },
  {
   "cell_type": "code",
   "execution_count": null,
   "id": "athletic-child",
   "metadata": {},
   "outputs": [],
   "source": [
    "select_star = \"\"\"SELECT * FROM players_per_game\"\"\"\n",
    "len(c.execute(select_star).fetchall())"
   ]
  },
  {
   "cell_type": "code",
   "execution_count": null,
   "id": "proper-switch",
   "metadata": {},
   "outputs": [],
   "source": [
    "abramovic = \"\"\"SELECT * FROM players_per_game WHERE player = 'John Abramovic'\"\"\"\n",
    "c.execute(abramovic).fetchall()[0][:10]"
   ]
  },
  {
   "cell_type": "code",
   "execution_count": null,
   "id": "smart-sustainability",
   "metadata": {},
   "outputs": [],
   "source": [
    "# c.execute()"
   ]
  },
  {
   "cell_type": "code",
   "execution_count": null,
   "id": "tender-limit",
   "metadata": {},
   "outputs": [],
   "source": [
    "sql = \"SELECT * FROM players_per_game\"\n",
    "first_400_names = pd.read_sql(sql, conn).player.unique()\n",
    "first_400_names"
   ]
  },
  {
   "cell_type": "code",
   "execution_count": 4,
   "id": "lonely-diagnosis",
   "metadata": {},
   "outputs": [
    {
     "name": "stdout",
     "output_type": "stream",
     "text": [
      "url: http://www.basketball-reference.com/players/b/brogdma01.html. ('Malcolm Brogdon', 1)\n",
      "url: http://www.basketball-reference.com/players/b/brokaga01.html. ('Gary Brokaw', 1)\n",
      "url: http://www.basketball-reference.com/players/b/brookpr01.html. ('Price Brookfield', 1)\n",
      "url: http://www.basketball-reference.com/players/b/brookcl01.html. ('Clarence Brookins', 1)\n",
      "url: http://www.basketball-reference.com/players/b/brookaa01.html. ('Aaron Brooks', 1)\n",
      "url: http://www.basketball-reference.com/players/b/brookdi01.html. ('Dillon Brooks', 1)\n",
      "url: http://www.basketball-reference.com/players/b/brookke01.html. ('Kevin Brooks', 1)\n",
      "url: http://www.basketball-reference.com/players/b/brookma01.html. ('MarShon Brooks', 1)\n",
      "url: http://www.basketball-reference.com/players/b/brookmi01.html. ('Michael Brooks', 1)\n",
      "url: http://www.basketball-reference.com/players/b/brooksc01.html. ('Scott Brooks', 1)\n",
      "url: http://www.basketball-reference.com/players/b/brownan01.html. ('Andre Brown', 1)\n",
      "url: http://www.basketball-reference.com/players/b/brownan02.html. ('Anthony Brown', 1)\n",
      "url: http://www.basketball-reference.com/players/b/brownbo01.html. ('Bob Brown', 1)\n",
      "url: http://www.basketball-reference.com/players/b/brownbo02.html. ('Bobby Brown', 1)\n",
      "url: http://www.basketball-reference.com/players/b/brownbr01.html. ('Bruce Brown', 1)\n",
      "url: http://www.basketball-reference.com/players/b/brownch02.html. ('Charlie Brown', 1)\n",
      "url: http://www.basketball-reference.com/players/b/brownch01.html. ('Chucky Brown', 1)\n",
      "url: http://www.basketball-reference.com/players/b/brownda02.html. ('Damone Brown', 1)\n",
      "url: http://www.basketball-reference.com/players/b/brownda01.html. ('Darrell Brown', 1)\n",
      "url: http://www.basketball-reference.com/players/b/brownde03.html. ('Dee Brown', 1)\n",
      "url: http://www.basketball-reference.com/players/b/brownde04.html. ('Derrick Brown', 1)\n",
      "url: http://www.basketball-reference.com/players/b/brownde02.html. ('Devin Brown', 1)\n",
      "url: http://www.basketball-reference.com/players/b/browner01.html. ('Ernest Brown', 1)\n",
      "url: http://www.basketball-reference.com/players/b/brownfr01.html. ('Fred Brown', 1)\n",
      "url: http://www.basketball-reference.com/players/b/brownge01.html. ('George Brown', 1)\n",
      "url: http://www.basketball-reference.com/players/b/brownge02.html. ('Gerald Brown', 1)\n",
      "url: http://www.basketball-reference.com/players/b/brownha01.html. ('Harold Brown', 1)\n",
      "url: http://www.basketball-reference.com/players/b/brownja01.html. ('Jabari Brown', 1)\n",
      "url: http://www.basketball-reference.com/players/b/brownja02.html. ('Jaylen Brown', 1)\n",
      "url: http://www.basketball-reference.com/players/b/brownjo01.html. ('John Brown', 1)\n",
      "url: http://www.basketball-reference.com/players/b/brownke01.html. ('Kedrick Brown', 1)\n",
      "url: http://www.basketball-reference.com/players/b/brownkw01.html. ('Kwame Brown', 1)\n",
      "url: http://www.basketball-reference.com/players/b/brownla01.html. ('Larry Brown', 1)\n",
      "url: http://www.basketball-reference.com/players/b/brownle01.html. ('Leon Brown', 1)\n",
      "url: http://www.basketball-reference.com/players/b/brownle02.html. ('Lewis Brown', 1)\n",
      "url: http://www.basketball-reference.com/players/b/brownlo01.html. ('Lorenzo Brown', 1)\n",
      "url: http://www.basketball-reference.com/players/b/brownma01.html. ('Marcus Brown', 1)\n",
      "url: http://www.basketball-reference.com/players/b/brownma02.html. ('Markel Brown', 1)\n",
      "url: http://www.basketball-reference.com/players/b/brownmi01.html. ('Mike Brown', 1)\n",
      "url: http://www.basketball-reference.com/players/b/brownmo01.html. ('Moses Brown', 1)\n",
      "url: http://www.basketball-reference.com/players/b/brownmy01.html. ('Myron Brown', 1)\n",
      "url: http://www.basketball-reference.com/players/b/brownpj01.html. ('P.J. Brown', 1)\n",
      "url: http://www.basketball-reference.com/players/b/brownra02.html. ('Randy Brown', 1)\n",
      "url: http://www.basketball-reference.com/players/b/brownra01.html. ('Raymond Brown', 1)\n",
      "url: http://www.basketball-reference.com/players/b/brownri01.html. ('Rickey Brown', 1)\n",
      "url: http://www.basketball-reference.com/players/b/brownro02.html. ('Roger Brown', 1)\n",
      "url: http://www.basketball-reference.com/players/b/brownsh01.html. ('Shannon Brown', 1)\n",
      "url: http://www.basketball-reference.com/players/b/brownst01.html. ('Stan Brown', 1)\n",
      "url: http://www.basketball-reference.com/players/b/brownst02.html. ('Sterling Brown', 1)\n",
      "url: http://www.basketball-reference.com/players/b/brownti01.html. ('Tierre Brown', 1)\n",
      "url: http://www.basketball-reference.com/players/b/brownto01.html. ('Tony Brown', 1)\n",
      "url: http://www.basketball-reference.com/players/b/browntr01.html. ('Troy Brown Jr.', 1)\n",
      "url: http://www.basketball-reference.com/players/b/brownji01.html. ('Jim Browne', 1)\n",
      "url: http://www.basketball-reference.com/players/b/brundst01.html. ('Stanley Brundy', 1)\n",
      "url: http://www.basketball-reference.com/players/b/brunkbr01.html. ('Brian Brunkhorst', 1)\n",
      "url: http://www.basketball-reference.com/players/b/brunsge01.html. ('George Bruns', 1)\n",
      "url: http://www.basketball-reference.com/players/b/brunsja01.html. ('Jalen Brunson', 1)\n",
      "url: http://www.basketball-reference.com/players/b/brunsri01.html. ('Rick Brunson', 1)\n",
      "url: http://www.basketball-reference.com/players/b/brussni01.html. ('Nicolás Brussino', 1)\n",
      "url: http://www.basketball-reference.com/players/b/bryanem01.html. ('Em Bryant', 1)\n",
      "url: http://www.basketball-reference.com/players/b/bryanjo01.html. ('Joe Bryant', 1)\n",
      "url: http://www.basketball-reference.com/players/b/bryanko01.html. ('Kobe Bryant', 1)\n",
      "url: http://www.basketball-reference.com/players/b/bryanma01.html. ('Mark Bryant', 1)\n",
      "url: http://www.basketball-reference.com/players/b/bryanth01.html. ('Thomas Bryant', 1)\n",
      "url: http://www.basketball-reference.com/players/b/bryanwa01.html. ('Wallace Bryant', 1)\n",
      "url: http://www.basketball-reference.com/players/b/brynto01.html. ('Torgeir Bryn', 1)\n",
      "url: http://www.basketball-reference.com/players/b/buccige01.html. ('George Bucci', 1)\n",
      "url: http://www.basketball-reference.com/players/b/buckhjo01.html. ('Joe Buckhalter', 1)\n",
      "url: http://www.basketball-reference.com/players/b/bucknst01.html. ('Steve Bucknall', 1)\n",
      "url: http://www.basketball-reference.com/players/b/buckncl01.html. ('Cleveland Buckner', 1)\n",
      "url: http://www.basketball-reference.com/players/b/buckngr01.html. ('Greg Buckner', 1)\n",
      "url: http://www.basketball-reference.com/players/b/bucknqu01.html. ('Quinn Buckner', 1)\n",
      "url: http://www.basketball-reference.com/players/b/buddda01.html. ('Dave Budd', 1)\n",
      "url: http://www.basketball-reference.com/players/b/budinch01.html. ('Chase Budinger', 1)\n",
      "url: http://www.basketball-reference.com/players/b/budkowa01.html. ('Walt Budko', 1)\n",
      "url: http://www.basketball-reference.com/players/b/buechju01.html. ('Jud Buechler', 1)\n",
      "url: http://www.basketball-reference.com/players/b/buforro01.html. ('Rodney Buford', 1)\n",
      "url: http://www.basketball-reference.com/players/b/bullama01.html. ('Matt Bullard', 1)\n",
      "url: http://www.basketball-reference.com/players/b/bullore01.html. ('Reggie Bullock', 1)\n",
      "url: http://www.basketball-reference.com/players/b/buncela01.html. ('Larry Bunce', 1)\n",
      "url: http://www.basketball-reference.com/players/b/bunchgr01.html. ('Greg Bunch', 1)\n",
      "url: http://www.basketball-reference.com/players/b/buntdi01.html. ('Dick Bunt', 1)\n",
      "url: http://www.basketball-reference.com/players/b/buntibi01.html. ('Bill Buntin', 1)\n",
      "url: http://www.basketball-reference.com/players/b/buntibi02.html. ('Bill Bunting', 1)\n",
      "url: http://www.basketball-reference.com/players/b/burdeti01.html. ('Ticky Burden', 1)\n",
      "url: http://www.basketball-reference.com/players/b/burkepa01.html. ('Pat Burke', 1)\n",
      "url: http://www.basketball-reference.com/players/b/burketr01.html. ('Trey Burke', 1)\n",
      "url: http://www.basketball-reference.com/players/b/burkmro01.html. ('Roger Burkman', 1)\n",
      "url: http://www.basketball-reference.com/players/b/burksal01.html. ('Alec Burks', 1)\n",
      "url: http://www.basketball-reference.com/players/b/burksan01.html. ('Antonio Burks', 1)\n",
      "url: http://www.basketball-reference.com/players/b/burleke01.html. ('Kevin Burleson', 1)\n",
      "url: http://www.basketball-reference.com/players/b/burleto01.html. ('Tom Burleson', 1)\n",
      "url: http://www.basketball-reference.com/players/b/burmaja01.html. ('Jack Burmaster', 1)\n",
      "url: http://www.basketball-reference.com/players/b/burnsda01.html. ('David Burns', 1)\n",
      "url: http://www.basketball-reference.com/players/b/burnsev01.html. ('Evers Burns', 1)\n"
     ]
    },
    {
     "name": "stdout",
     "output_type": "stream",
     "text": [
      "url: http://www.basketball-reference.com/players/b/burnsji01.html. ('Jim Burns', 1)\n",
      "url: http://www.basketball-reference.com/players/b/burresc01.html. ('Scott Burrell', 1)\n",
      "url: http://www.basketball-reference.com/players/b/burriar01.html. ('Art Burris', 1)\n",
      "url: http://www.basketball-reference.com/players/b/burroju01.html. ('Junior Burrough', 1)\n",
      "url: http://www.basketball-reference.com/players/b/burrobo01.html. ('Bob Burrow', 1)\n",
      "url: http://www.basketball-reference.com/players/b/burtode02.html. ('Deonte Burton', 1)\n",
      "url: http://www.basketball-reference.com/players/b/burtoed01.html. ('Ed Burton', 1)\n",
      "url: http://www.basketball-reference.com/players/b/burtowi01.html. ('Willie Burton', 1)\n",
      "url: http://www.basketball-reference.com/players/b/burttst01.html. ('Steve Burtt', 1)\n",
      "url: http://www.basketball-reference.com/players/b/busedo01.html. ('Don Buse', 1)\n",
      "url: http://www.basketball-reference.com/players/b/bustida01.html. ('David Bustion', 1)\n",
      "url: http://www.basketball-reference.com/players/b/butchdo01.html. ('Donnie Butcher', 1)\n",
      "url: http://www.basketball-reference.com/players/b/butleal01.html. ('Al Butler', 1)\n",
      "url: http://www.basketball-reference.com/players/b/butleca01.html. ('Caron Butler', 1)\n",
      "url: http://www.basketball-reference.com/players/b/butlegr01.html. ('Greg Butler', 1)\n",
      "url: http://www.basketball-reference.com/players/b/butleja01.html. ('Jackie Butler', 1)\n",
      "url: http://www.basketball-reference.com/players/b/butleji01.html. ('Jimmy Butler', 1)\n",
      "url: http://www.basketball-reference.com/players/b/butlemi01.html. ('Mike Butler', 1)\n",
      "url: http://www.basketball-reference.com/players/b/butlemi02.html. ('Mitchell Butler', 1)\n",
      "url: http://www.basketball-reference.com/players/b/butlera01.html. ('Rasual Butler', 1)\n",
      "url: http://www.basketball-reference.com/players/b/buyckdw01.html. ('Dwight Buycks', 1)\n",
      "url: http://www.basketball-reference.com/players/b/byarsde01.html. ('Derrick Byars', 1)\n",
      "url: http://www.basketball-reference.com/players/b/bynuman01.html. ('Andrew Bynum', 1)\n",
      "url: http://www.basketball-reference.com/players/b/bynumwi01.html. ('Will Bynum', 1)\n",
      "url: http://www.basketball-reference.com/players/b/byrdwa01.html. ('Walter Byrd', 1)\n",
      "url: http://www.basketball-reference.com/players/b/byrnema01.html. ('Marty Byrnes', 1)\n",
      "url: http://www.basketball-reference.com/players/b/byrneto01.html. ('Tommy Byrnes', 1)\n",
      "url: http://www.basketball-reference.com/players/b/bytzumi01.html. ('Michael Bytzura', 1)\n",
      "url: http://www.basketball-reference.com/players/c/cabarza01.html. ('Žarko Čabarkapa', 1)\n",
      "url: http://www.basketball-reference.com/players/c/cableba01.html. ('Barney Cable', 1)\n",
      "url: http://www.basketball-reference.com/players/c/cabocbr01.html. ('Bruno Caboclo', 1)\n",
      "url: http://www.basketball-reference.com/players/c/cacokde01.html. ('Devontae Cacok', 1)\n",
      "url: http://www.basketball-reference.com/players/c/caffeja01.html. ('Jason Caffey', 1)\n",
      "url: http://www.basketball-reference.com/players/c/cagemi01.html. ('Michael Cage', 1)\n",
      "url: http://www.basketball-reference.com/players/c/calabge01.html. ('Gerry Calabrese', 1)\n",
      "url: http://www.basketball-reference.com/players/c/calatni01.html. ('Nick Calathes', 1)\n",
      "url: http://www.basketball-reference.com/players/c/caldejo01.html. ('José Calderón', 1)\n",
      "url: http://www.basketball-reference.com/players/c/caldwad01.html. ('Adrian Caldwell', 1)\n",
      "url: http://www.basketball-reference.com/players/c/caldwji01.html. ('Jim Caldwell', 1)\n",
      "url: http://www.basketball-reference.com/players/c/caldwjo01.html. ('Joe Caldwell', 1)\n",
      "url: http://www.basketball-reference.com/players/c/caldwke01.html. ('Kentavious Caldwell-Pope', 1)\n",
      "url: http://www.basketball-reference.com/players/c/calhobi01.html. ('Bill Calhoun', 1)\n",
      "url: http://www.basketball-reference.com/players/c/calhoco01.html. ('Corky Calhoun', 1)\n",
      "url: http://www.basketball-reference.com/players/c/calipde01.html. ('Demetrius Calip', 1)\n",
      "url: http://www.basketball-reference.com/players/c/callato01.html. ('Tom Callahan', 1)\n",
      "url: http://www.basketball-reference.com/players/c/callori01.html. ('Rick Calloway', 1)\n",
      "url: http://www.basketball-reference.com/players/c/calveer01.html. ('Ernie Calverley', 1)\n",
      "url: http://www.basketball-reference.com/players/c/calvima01.html. ('Mack Calvin', 1)\n",
      "url: http://www.basketball-reference.com/players/c/cambrde01.html. ('Dexter Cambridge', 1)\n",
      "url: http://www.basketball-reference.com/players/c/cambyma01.html. ('Marcus Camby', 1)\n",
      "url: http://www.basketball-reference.com/players/c/campafa01.html. ('Facundo Campazzo', 1)\n",
      "url: http://www.basketball-reference.com/players/c/campbel01.html. ('Elden Campbell', 1)\n",
      "url: http://www.basketball-reference.com/players/c/campbto01.html. ('Tony Campbell', 1)\n",
      "url: http://www.basketball-reference.com/players/c/canaais01.html. ('Isaiah Canaan', 1)\n",
      "url: http://www.basketball-reference.com/players/c/cancavl01.html. ('Vlatko Čančar', 1)\n",
      "url: http://www.basketball-reference.com/players/c/cannola01.html. ('Larry Cannon', 1)\n",
      "url: http://www.basketball-reference.com/players/c/capelca01.html. ('Clint Capela', 1)\n",
      "url: http://www.basketball-reference.com/players/c/caracde01.html. ('Derrick Caracter', 1)\n",
      "url: http://www.basketball-reference.com/players/c/cardfr01.html. ('Frank Card', 1)\n",
      "url: http://www.basketball-reference.com/players/c/cardibr01.html. ('Brian Cardinal', 1)\n",
      "url: http://www.basketball-reference.com/players/c/careyve01.html. ('Vernon Carey Jr.', 1)\n",
      "url: http://www.basketball-reference.com/players/c/carlho01.html. ('Howie Carl', 1)\n",
      "url: http://www.basketball-reference.com/players/c/carlich01.html. ('Chet Carlisle', 1)\n",
      "url: http://www.basketball-reference.com/players/c/carlige01.html. ('Geno Carlisle', 1)\n",
      "url: http://www.basketball-reference.com/players/c/carliri01.html. ('Rick Carlisle', 1)\n",
      "url: http://www.basketball-reference.com/players/c/carlodo01.html. ('Don Carlos', 1)\n",
      "url: http://www.basketball-reference.com/players/c/carlsal01.html. ('Al Carlson', 1)\n",
      "url: http://www.basketball-reference.com/players/c/carlsdo01.html. ('Don Carlson', 1)\n",
      "url: http://www.basketball-reference.com/players/c/carnebo01.html. ('Bob Carney', 1)\n",
      "url: http://www.basketball-reference.com/players/c/carnero01.html. ('Rodney Carney', 1)\n",
      "url: http://www.basketball-reference.com/players/c/carpebo01.html. ('Bob Carpenter', 1)\n",
      "url: http://www.basketball-reference.com/players/c/carran01.html. ('Antoine Carr', 1)\n",
      "url: http://www.basketball-reference.com/players/c/carrau01.html. ('Austin Carr', 1)\n",
      "url: http://www.basketball-reference.com/players/c/carrch01.html. ('Chris Carr', 1)\n",
      "url: http://www.basketball-reference.com/players/c/carrco01.html. ('Cory Carr', 1)\n",
      "url: http://www.basketball-reference.com/players/c/carrke01.html. ('Kenny Carr', 1)\n",
      "url: http://www.basketball-reference.com/players/c/carrml01.html. ('M.L. Carr', 1)\n",
      "url: http://www.basketball-reference.com/players/c/carrida01.html. ('Darel Carrier', 1)\n",
      "url: http://www.basketball-reference.com/players/c/carribo01.html. ('Bob Carrington', 1)\n",
      "url: http://www.basketball-reference.com/players/c/carrode01.html. ('DeMarre Carroll', 1)\n",
      "url: http://www.basketball-reference.com/players/c/carrojo01.html. ('Joe Barry Carroll', 1)\n",
      "url: http://www.basketball-reference.com/players/c/carroma01.html. ('Matt Carroll', 1)\n",
      "url: http://www.basketball-reference.com/players/c/carruji01.html. ('Jimmy Carruth', 1)\n",
      "url: http://www.basketball-reference.com/players/c/cartean01.html. ('Anthony Carter', 1)\n",
      "url: http://www.basketball-reference.com/players/c/cartebu01.html. ('Butch Carter', 1)\n",
      "url: http://www.basketball-reference.com/players/c/cartefr01.html. ('Fred Carter', 1)\n",
      "url: http://www.basketball-reference.com/players/c/cartege01.html. ('George Carter', 1)\n",
      "url: http://www.basketball-reference.com/players/c/carteho01.html. ('Howard Carter', 1)\n",
      "url: http://www.basketball-reference.com/players/c/carteja01.html. ('Jake Carter', 1)\n",
      "url: http://www.basketball-reference.com/players/c/carteje01.html. ('Jevon Carter', 1)\n",
      "url: http://www.basketball-reference.com/players/c/cartema01.html. ('Maurice Carter', 1)\n",
      "url: http://www.basketball-reference.com/players/c/cartere01.html. ('Reggie Carter', 1)\n",
      "url: http://www.basketball-reference.com/players/c/cartero01.html. ('Ron Carter', 1)\n",
      "url: http://www.basketball-reference.com/players/c/cartevi01.html. ('Vince Carter', 1)\n"
     ]
    },
    {
     "name": "stdout",
     "output_type": "stream",
     "text": [
      "url: http://www.basketball-reference.com/players/c/cartewe01.html. ('Wendell Carter Jr.', 1)\n",
      "url: http://www.basketball-reference.com/players/c/cartemi01.html. ('Michael Carter-Williams', 1)\n",
      "url: http://www.basketball-reference.com/players/c/cartwbi01.html. ('Bill Cartwright', 1)\n",
      "url: http://www.basketball-reference.com/players/c/cartyja01.html. ('Jay Carty', 1)\n",
      "url: http://www.basketball-reference.com/players/c/carusal01.html. ('Alex Caruso', 1)\n",
      "url: http://www.basketball-reference.com/players/c/cashco01.html. ('Cornelius Cash', 1)\n",
      "url: http://www.basketball-reference.com/players/c/cashsa01.html. ('Sam Cash', 1)\n",
      "url: http://www.basketball-reference.com/players/c/cassesa01.html. ('Sam Cassell', 1)\n",
      "url: http://www.basketball-reference.com/players/c/casspom01.html. ('Omri Casspi', 1)\n",
      "url: http://www.basketball-reference.com/players/c/catchha01.html. ('Harvey Catchings', 1)\n",
      "url: http://www.basketball-reference.com/players/c/catlete01.html. ('Terry Catledge', 1)\n",
      "url: http://www.basketball-reference.com/players/c/catlesi01.html. ('Sid Catlett', 1)\n",
      "url: http://www.basketball-reference.com/players/c/catoke01.html. ('Kelvin Cato', 1)\n",
      "url: http://www.basketball-reference.com/players/c/cattabo01.html. ('Bobby Cattage', 1)\n",
      "url: http://www.basketball-reference.com/players/c/caulewi01.html. ('Willie Cauley-Stein', 1)\n",
      "url: http://www.basketball-reference.com/players/c/caupatr01.html. ('Troy Caupain', 1)\n",
      "url: http://www.basketball-reference.com/players/c/causwdu01.html. ('Duane Causwell', 1)\n",
      "url: http://www.basketball-reference.com/players/c/cavanty01.html. ('Tyler Cavanaugh', 1)\n",
      "url: http://www.basketball-reference.com/players/c/cavenro01.html. ('Ron Cavenall', 1)\n",
      "url: http://www.basketball-reference.com/players/c/cebalce01.html. ('Cedric Ceballos', 1)\n",
      "url: http://www.basketball-reference.com/players/c/celesjo01.html. ('John Celestand', 1)\n",
      "url: http://www.basketball-reference.com/players/c/cervial01.html. ('Al Cervi', 1)\n",
      "url: http://www.basketball-reference.com/players/c/chalmli01.html. ('Lionel Chalmers', 1)\n",
      "url: http://www.basketball-reference.com/players/c/chalmma01.html. ('Mario Chalmers', 1)\n",
      "url: http://www.basketball-reference.com/players/c/chambbi01.html. ('Bill Chamberlain', 1)\n",
      "url: http://www.basketball-reference.com/players/c/chambwi01.html. ('Wilt Chamberlain', 1)\n",
      "url: http://www.basketball-reference.com/players/c/chambje01.html. ('Jerry Chambers', 1)\n",
      "url: http://www.basketball-reference.com/players/c/chambto01.html. ('Tom Chambers', 1)\n",
      "url: http://www.basketball-reference.com/players/c/champmi01.html. ('Mike Champion', 1)\n",
      "url: http://www.basketball-reference.com/players/c/chandty01.html. ('Tyson Chandler', 1)\n",
      "url: http://www.basketball-reference.com/players/c/chandwi01.html. ('Wilson Chandler', 1)\n",
      "url: http://www.basketball-reference.com/players/c/chanedo01.html. ('Don Chaney', 1)\n",
      "url: http://www.basketball-reference.com/players/c/chanejo01.html. ('John Chaney', 1)\n",
      "url: http://www.basketball-reference.com/players/c/chapmre01.html. ('Rex Chapman', 1)\n",
      "url: http://www.basketball-reference.com/players/c/chapmwa01.html. ('Wayne Chapman', 1)\n",
      "url: http://www.basketball-reference.com/players/c/chapple01.html. ('Len Chappell', 1)\n",
      "url: http://www.basketball-reference.com/players/c/charlke01.html. ('Ken Charles', 1)\n",
      "url: http://www.basketball-reference.com/players/c/charllo01.html. ('Lorenzo Charles', 1)\n",
      "url: http://www.basketball-reference.com/players/c/chealjo01.html. ('Joe Chealey', 1)\n",
      "url: http://www.basketball-reference.com/players/c/cheanca01.html. ('Calbert Cheaney', 1)\n",
      "url: http://www.basketball-reference.com/players/c/cheatzy01.html. ('Zylan Cheatham', 1)\n",
      "url: http://www.basketball-reference.com/players/c/cheekma01.html. ('Maurice Cheeks', 1)\n",
      "url: http://www.basketball-reference.com/players/c/cheniph01.html. ('Phil Chenier', 1)\n",
      "url: http://www.basketball-reference.com/players/c/cherrwi01.html. ('Will Cherry', 1)\n",
      "url: http://www.basketball-reference.com/players/c/chievde01.html. ('Derrick Chievous', 1)\n",
      "url: http://www.basketball-reference.com/players/c/chilcpe01.html. ('Pete Chilcutt', 1)\n",
      "url: http://www.basketball-reference.com/players/c/childjo01.html. ('Josh Childress', 1)\n",
      "url: http://www.basketball-reference.com/players/c/childra01.html. ('Randolph Childress', 1)\n",
      "url: http://www.basketball-reference.com/players/c/childch01.html. ('Chris Childs', 1)\n",
      "url: http://www.basketball-reference.com/players/c/chiozch01.html. ('Chris Chiozza', 1)\n",
      "url: http://www.basketball-reference.com/players/c/chollle01.html. ('Leroy Chollet', 1)\n",
      "url: http://www.basketball-reference.com/players/c/choneji01.html. ('Jim Chones', 1)\n",
      "url: http://www.basketball-reference.com/players/c/chrisma01.html. ('Marquese Chriss', 1)\n",
      "url: http://www.basketball-reference.com/players/c/chrisfr01.html. ('Fred Christ', 1)\n",
      "url: http://www.basketball-reference.com/players/c/chrisca01.html. ('Cal Christensen', 1)\n",
      "url: http://www.basketball-reference.com/players/c/chrisbo01.html. ('Bob Christian', 1)\n",
      "url: http://www.basketball-reference.com/players/c/chrisdo01.html. ('Doug Christie', 1)\n",
      "url: http://www.basketball-reference.com/players/c/chrisdi01.html. ('Dionte Christmas', 1)\n",
      "url: http://www.basketball-reference.com/players/c/chrisra01.html. ('Rakeem Christmas', 1)\n",
      "url: http://www.basketball-reference.com/players/c/chrisse01.html. ('Semaj Christon', 1)\n",
      "url: http://www.basketball-reference.com/players/c/chrispa01.html. ('Patrick Christopher', 1)\n",
      "url: http://www.basketball-reference.com/players/c/chubist01.html. ('Stephen Chubin', 1)\n",
      "url: http://www.basketball-reference.com/players/c/churcro01.html. ('Robert Churchwell', 1)\n",
      "url: http://www.basketball-reference.com/players/c/clarkar01.html. ('Archie Clark', 1)\n",
      "url: http://www.basketball-reference.com/players/c/clarkca01.html. ('Carlos Clark', 1)\n",
      "url: http://www.basketball-reference.com/players/c/clarkea01.html. ('Earl Clark', 1)\n",
      "url: http://www.basketball-reference.com/players/c/clarkga01.html. ('Gary Clark', 1)\n",
      "url: http://www.basketball-reference.com/players/c/clarkia01.html. ('Ian Clark', 1)\n",
      "url: http://www.basketball-reference.com/players/c/clarkke01.html. ('Keon Clark', 1)\n",
      "url: http://www.basketball-reference.com/players/c/clarkri01.html. ('Richard Clark', 1)\n",
      "url: http://www.basketball-reference.com/players/c/clarkbr01.html. ('Brandon Clarke', 1)\n",
      "url: http://www.basketball-reference.com/players/c/clarkco01.html. ('Coty Clarke', 1)\n",
      "url: http://www.basketball-reference.com/players/c/clarkjo01.html. ('Jordan Clarkson', 1)\n",
      "url: http://www.basketball-reference.com/players/c/clavegi01.html. ('Gian Clavell', 1)\n",
      "url: http://www.basketball-reference.com/players/c/clavevi01.html. ('Victor Claver', 1)\n",
      "url: http://www.basketball-reference.com/players/c/clawsjo01.html. ('John Clawson', 1)\n",
      "url: http://www.basketball-reference.com/players/c/claxtch01.html. ('Charles Claxton', 1)\n",
      "url: http://www.basketball-reference.com/players/c/claxtni01.html. ('Nicolas Claxton', 1)\n",
      "url: http://www.basketball-reference.com/players/c/claxtsp01.html. ('Speedy Claxton', 1)\n",
      "url: http://www.basketball-reference.com/players/c/cleamji01.html. ('Jim Cleamons', 1)\n",
      "url: http://www.basketball-reference.com/players/c/cleavma01.html. ('Mateen Cleaves', 1)\n",
      "url: http://www.basketball-reference.com/players/c/clemeba01.html. ('Barry Clemens', 1)\n",
      "url: http://www.basketball-reference.com/players/c/clemoch01.html. ('Chris Clemons', 1)\n",
      "url: http://www.basketball-reference.com/players/c/clevean01.html. ('Antonius Cleveland', 1)\n",
      "url: http://www.basketball-reference.com/players/c/cliftna01.html. ('Nat Clifton', 1)\n",
      "url: http://www.basketball-reference.com/players/c/clossbi01.html. ('Bill Closs', 1)\n",
      "url: http://www.basketball-reference.com/players/c/closske01.html. ('Keith Closs', 1)\n",
      "url: http://www.basketball-reference.com/players/c/cloydpa01.html. ('Paul Cloyd', 1)\n",
      "url: http://www.basketball-reference.com/players/c/cluggbo01.html. ('Bob Cluggish', 1)\n",
      "url: http://www.basketball-reference.com/players/c/clydebe01.html. ('Ben Clyde', 1)\n",
      "url: http://www.basketball-reference.com/players/c/coffeam01.html. ('Amir Coffey', 1)\n",
      "url: http://www.basketball-reference.com/players/c/cofferi01.html. ('Richard Coffey', 1)\n",
      "url: http://www.basketball-reference.com/players/c/cofiefr01.html. ('Fred Cofield', 1)\n"
     ]
    },
    {
     "name": "stdout",
     "output_type": "stream",
     "text": [
      "url: http://www.basketball-reference.com/players/c/cokerjo01.html. ('John Coker', 1)\n",
      "url: http://www.basketball-reference.com/players/c/coleno01.html. ('Norris Cole', 1)\n",
      "url: http://www.basketball-reference.com/players/c/colembe01.html. ('Ben Coleman', 1)\n",
      "url: http://www.basketball-reference.com/players/c/colemde01.html. ('Derrick Coleman', 1)\n",
      "url: http://www.basketball-reference.com/players/c/colemec01.html. ('E.C. Coleman', 1)\n",
      "url: http://www.basketball-reference.com/players/c/colemja01.html. ('Jack Coleman', 1)\n",
      "url: http://www.basketball-reference.com/players/c/colemno01.html. ('Norris Coleman', 1)\n",
      "url: http://www.basketball-reference.com/players/c/colesbi01.html. ('Bimbo Coles', 1)\n",
      "url: http://www.basketball-reference.com/players/c/collija02.html. ('Jason Collier', 1)\n",
      "url: http://www.basketball-reference.com/players/c/colliar01.html. ('Art Collins', 1)\n",
      "url: http://www.basketball-reference.com/players/c/collido02.html. ('Don Collins', 1)\n",
      "url: http://www.basketball-reference.com/players/c/collido01.html. ('Doug Collins', 1)\n",
      "url: http://www.basketball-reference.com/players/c/collija01.html. ('James Collins', 1)\n",
      "url: http://www.basketball-reference.com/players/c/collija03.html. ('Jarron Collins', 1)\n",
      "url: http://www.basketball-reference.com/players/c/collija04.html. ('Jason Collins', 1)\n",
      "url: http://www.basketball-reference.com/players/c/colliji01.html. ('Jimmy Collins', 1)\n",
      "url: http://www.basketball-reference.com/players/c/collijo01.html. ('John Collins', 1)\n",
      "url: http://www.basketball-reference.com/players/c/collima01.html. ('Mardy Collins', 1)\n",
      "url: http://www.basketball-reference.com/players/c/collish01.html. ('Sherron Collins', 1)\n",
      "url: http://www.basketball-reference.com/players/c/colliza01.html. ('Zach Collins', 1)\n",
      "url: http://www.basketball-reference.com/players/c/colliky01.html. ('Kyle Collinsworth', 1)\n",
      "url: http://www.basketball-reference.com/players/c/collida01.html. ('Darren Collison', 1)\n",
      "url: http://www.basketball-reference.com/players/c/collini01.html. ('Nick Collison', 1)\n",
      "url: http://www.basketball-reference.com/players/c/colonjo01.html. ('Joe Colone', 1)\n",
      "url: http://www.basketball-reference.com/players/c/colsobo01.html. ('Bonzie Colson', 1)\n",
      "url: http://www.basketball-reference.com/players/c/colsose01.html. ('Sean Colson', 1)\n",
      "url: http://www.basketball-reference.com/players/c/coltest01.html. ('Steve Colter', 1)\n",
      "url: http://www.basketball-reference.com/players/c/combsgl01.html. ('Glen Combs', 1)\n",
      "url: http://www.basketball-reference.com/players/c/combsle01.html. ('Leroy Combs', 1)\n",
      "url: http://www.basketball-reference.com/players/c/comeajo01.html. ('John Comeaux', 1)\n",
      "url: http://www.basketball-reference.com/players/c/comegda01.html. ('Dallas Comegys', 1)\n",
      "url: http://www.basketball-reference.com/players/c/comlela01.html. ('Larry Comley', 1)\n",
      "url: http://www.basketball-reference.com/players/c/congdje01.html. ('Jeffrey Congdon', 1)\n",
      "url: http://www.basketball-reference.com/players/c/conlege01.html. ('Gene Conley', 1)\n",
      "url: http://www.basketball-reference.com/players/c/conlela01.html. ('Larry Conley', 1)\n",
      "url: http://www.basketball-reference.com/players/c/conlemi01.html. ('Mike Conley', 1)\n",
      "url: http://www.basketball-reference.com/players/c/conlied01.html. ('Ed Conlin', 1)\n",
      "url: http://www.basketball-reference.com/players/c/conloma01.html. ('Marty Conlon', 1)\n",
      "url: http://www.basketball-reference.com/players/c/connapa01.html. ('Pat Connaughton', 1)\n",
      "url: http://www.basketball-reference.com/players/c/conneji01.html. ('Jimmy Conner', 1)\n",
      "url: http://www.basketball-reference.com/players/c/connele01.html. ('Lester Conner', 1)\n",
      "url: http://www.basketball-reference.com/players/c/connoch01.html. ('Chuck Connors', 1)\n",
      "url: http://www.basketball-reference.com/players/c/conrowi01.html. ('Will Conroy', 1)\n",
      "url: http://www.basketball-reference.com/players/c/cookan01.html. ('Anthony Cook', 1)\n",
      "url: http://www.basketball-reference.com/players/c/cookbe01.html. ('Bert Cook', 1)\n",
      "url: http://www.basketball-reference.com/players/c/cookbo01.html. ('Bobby Cook', 1)\n",
      "url: http://www.basketball-reference.com/players/c/cookbr01.html. ('Brian Cook', 1)\n",
      "url: http://www.basketball-reference.com/players/c/cookda02.html. ('Daequan Cook', 1)\n",
      "url: http://www.basketball-reference.com/players/c/cookda01.html. ('Darwin Cook', 1)\n",
      "url: http://www.basketball-reference.com/players/c/cookje01.html. ('Jeff Cook', 1)\n",
      "url: http://www.basketball-reference.com/players/c/cookno01.html. ('Norm Cook', 1)\n",
      "url: http://www.basketball-reference.com/players/c/cookom01.html. ('Omar Cook', 1)\n",
      "object of type 'NoneType' has no len(): url was http://www.basketball-reference.com/players/c/cookqu01.html\n"
     ]
    },
    {
     "ename": "UnboundLocalError",
     "evalue": "local variable 'player_df' referenced before assignment",
     "output_type": "error",
     "traceback": [
      "\u001b[0;31m---------------------------------------------------------------------------\u001b[0m",
      "\u001b[0;31mUnboundLocalError\u001b[0m                         Traceback (most recent call last)",
      "\u001b[0;32m<ipython-input-4-5f0af02f3805>\u001b[0m in \u001b[0;36m<module>\u001b[0;34m\u001b[0m\n\u001b[1;32m      1\u001b[0m \u001b[0;32mfrom\u001b[0m \u001b[0mscraper\u001b[0m\u001b[0;34m.\u001b[0m\u001b[0mgetters\u001b[0m \u001b[0;32mimport\u001b[0m \u001b[0mget_full_player_urls\u001b[0m\u001b[0;34m\u001b[0m\u001b[0;34m\u001b[0m\u001b[0m\n\u001b[0;32m----> 2\u001b[0;31m \u001b[0msecond_500\u001b[0m \u001b[0;34m=\u001b[0m \u001b[0mbuilders\u001b[0m\u001b[0;34m.\u001b[0m\u001b[0mcreate_all_player_stats_df\u001b[0m\u001b[0;34m(\u001b[0m\u001b[0msegment\u001b[0m\u001b[0;34m=\u001b[0m\u001b[0mslice\u001b[0m\u001b[0;34m(\u001b[0m\u001b[0;36m510\u001b[0m\u001b[0;34m,\u001b[0m\u001b[0;36m1010\u001b[0m\u001b[0;34m)\u001b[0m\u001b[0;34m)\u001b[0m\u001b[0;34m\u001b[0m\u001b[0;34m\u001b[0m\u001b[0m\n\u001b[0m",
      "\u001b[0;32m~/python/github.com/samhld/nba_stats/app/preprocessor/builders.py\u001b[0m in \u001b[0;36mcreate_all_player_stats_df\u001b[0;34m(stat, segment)\u001b[0m\n\u001b[1;32m     68\u001b[0m     \u001b[0;32mfor\u001b[0m \u001b[0murl\u001b[0m \u001b[0;32min\u001b[0m \u001b[0mget_full_player_urls\u001b[0m\u001b[0;34m(\u001b[0m\u001b[0msegment\u001b[0m\u001b[0;34m)\u001b[0m\u001b[0;34m:\u001b[0m\u001b[0;34m\u001b[0m\u001b[0;34m\u001b[0m\u001b[0m\n\u001b[1;32m     69\u001b[0m \u001b[0;34m\u001b[0m\u001b[0m\n\u001b[0;32m---> 70\u001b[0;31m         \u001b[0mplayer_stats_dfs\u001b[0m\u001b[0;34m.\u001b[0m\u001b[0mappend\u001b[0m\u001b[0;34m(\u001b[0m\u001b[0mcreate_player_stats_df\u001b[0m\u001b[0;34m(\u001b[0m\u001b[0murl\u001b[0m\u001b[0;34m,\u001b[0m \u001b[0mstat\u001b[0m\u001b[0;34m)\u001b[0m\u001b[0;34m)\u001b[0m\u001b[0;34m\u001b[0m\u001b[0;34m\u001b[0m\u001b[0m\n\u001b[0m\u001b[1;32m     71\u001b[0m         \u001b[0mtime\u001b[0m\u001b[0;34m.\u001b[0m\u001b[0msleep\u001b[0m\u001b[0;34m(\u001b[0m\u001b[0;36m.5\u001b[0m\u001b[0;34m)\u001b[0m\u001b[0;34m\u001b[0m\u001b[0;34m\u001b[0m\u001b[0m\n\u001b[1;32m     72\u001b[0m     \u001b[0mall_player_stats_df\u001b[0m \u001b[0;34m=\u001b[0m \u001b[0mpd\u001b[0m\u001b[0;34m.\u001b[0m\u001b[0mconcat\u001b[0m\u001b[0;34m(\u001b[0m\u001b[0mplayer_stats_dfs\u001b[0m\u001b[0;34m)\u001b[0m \u001b[0;31m# persist player_dict so don't have to call func each time\u001b[0m\u001b[0;34m\u001b[0m\u001b[0;34m\u001b[0m\u001b[0m\n",
      "\u001b[0;32m~/python/github.com/samhld/nba_stats/app/preprocessor/builders.py\u001b[0m in \u001b[0;36mcreate_player_stats_df\u001b[0;34m(player_url, stat)\u001b[0m\n\u001b[1;32m     62\u001b[0m         \u001b[0mprint\u001b[0m\u001b[0;34m(\u001b[0m\u001b[0;34mf\"{e}: url was {player_url}\"\u001b[0m\u001b[0;34m)\u001b[0m\u001b[0;34m\u001b[0m\u001b[0;34m\u001b[0m\u001b[0m\n\u001b[1;32m     63\u001b[0m \u001b[0;34m\u001b[0m\u001b[0m\n\u001b[0;32m---> 64\u001b[0;31m     \u001b[0;32mreturn\u001b[0m \u001b[0mplayer_df\u001b[0m\u001b[0;34m\u001b[0m\u001b[0;34m\u001b[0m\u001b[0m\n\u001b[0m\u001b[1;32m     65\u001b[0m \u001b[0;34m\u001b[0m\u001b[0m\n\u001b[1;32m     66\u001b[0m \u001b[0;32mdef\u001b[0m \u001b[0mcreate_all_player_stats_df\u001b[0m\u001b[0;34m(\u001b[0m\u001b[0mstat\u001b[0m\u001b[0;34m=\u001b[0m\u001b[0;34m\"per_minute\"\u001b[0m\u001b[0;34m,\u001b[0m \u001b[0msegment\u001b[0m\u001b[0;34m=\u001b[0m\u001b[0mslice\u001b[0m\u001b[0;34m(\u001b[0m\u001b[0;32mNone\u001b[0m\u001b[0;34m)\u001b[0m\u001b[0;34m)\u001b[0m\u001b[0;34m:\u001b[0m\u001b[0;34m\u001b[0m\u001b[0;34m\u001b[0m\u001b[0m\n",
      "\u001b[0;31mUnboundLocalError\u001b[0m: local variable 'player_df' referenced before assignment"
     ]
    }
   ],
   "source": [
    "from scraper.getters import get_full_player_urls\n",
    "second_500 = builders.create_all_player_stats_df(segment=slice(510,1010))"
   ]
  },
  {
   "cell_type": "code",
   "execution_count": null,
   "id": "related-niger",
   "metadata": {},
   "outputs": [],
   "source": [
    "second_500.iloc[2060:2070]"
   ]
  },
  {
   "cell_type": "code",
   "execution_count": null,
   "id": "bound-vatican",
   "metadata": {},
   "outputs": [],
   "source": [
    "from scraper.getters import get_player_dict,get_full_player_urls\n",
    "from preprocessor.builders import create_player_stats_df"
   ]
  },
  {
   "cell_type": "code",
   "execution_count": null,
   "id": "healthy-irrigation",
   "metadata": {},
   "outputs": [],
   "source": [
    "seg = slice(510,600)\n",
    "list(get_player_dict().values())[seg][:10]"
   ]
  },
  {
   "cell_type": "code",
   "execution_count": null,
   "id": "extreme-gibson",
   "metadata": {},
   "outputs": [],
   "source": [
    "urls = get_full_player_urls(segment=slice(500,600))\n",
    "urls[:5]"
   ]
  },
  {
   "cell_type": "code",
   "execution_count": null,
   "id": "empirical-hobby",
   "metadata": {},
   "outputs": [],
   "source": [
    "seg1 = slice(510,515)\n",
    "builders.create_all_player_stats_df(segment=seg1)"
   ]
  },
  {
   "cell_type": "code",
   "execution_count": null,
   "id": "generic-source",
   "metadata": {},
   "outputs": [],
   "source": [
    "get_full_player_urls(segment=seg1)"
   ]
  },
  {
   "cell_type": "code",
   "execution_count": null,
   "id": "delayed-directory",
   "metadata": {},
   "outputs": [],
   "source": [
    "player_stats_dfs = []\n",
    "for url in get_full_player_urls(segment=seg1):\n",
    "    print(url)\n",
    "    player_stats_dfs.append(create_player_stats_df(url, \"per_game\"))"
   ]
  },
  {
   "cell_type": "code",
   "execution_count": null,
   "id": "inappropriate-check",
   "metadata": {},
   "outputs": [],
   "source": [
    "all_player_stats_df = pd.concat(player_stats_dfs, keys=list(get_player_dict().keys()), names=[\"player\",\"year_count\"])"
   ]
  },
  {
   "cell_type": "code",
   "execution_count": null,
   "id": "exempt-color",
   "metadata": {},
   "outputs": [],
   "source": [
    "all_player_stats_df.head()"
   ]
  },
  {
   "cell_type": "code",
   "execution_count": null,
   "id": "isolated-intermediate",
   "metadata": {},
   "outputs": [],
   "source": [
    "from PandasBasketball.stats import player_stats\n",
    "import requests"
   ]
  },
  {
   "cell_type": "code",
   "execution_count": null,
   "id": "professional-heritage",
   "metadata": {},
   "outputs": [],
   "source": [
    "url = \"http://www.basketball-reference.com/players/b/brogdma01.html\"\n",
    "test_df = player_stats(requests.get(url), \"per_game\", numeric=True)"
   ]
  },
  {
   "cell_type": "code",
   "execution_count": null,
   "id": "expressed-quick",
   "metadata": {},
   "outputs": [],
   "source": [
    "test_df.head()"
   ]
  },
  {
   "cell_type": "code",
   "execution_count": null,
   "id": "behind-assessment",
   "metadata": {},
   "outputs": [],
   "source": [
    "from scraper.getters import get_player_dict"
   ]
  },
  {
   "cell_type": "code",
   "execution_count": null,
   "id": "lesser-flashing",
   "metadata": {},
   "outputs": [],
   "source": []
  },
  {
   "cell_type": "code",
   "execution_count": null,
   "id": "interpreted-mobile",
   "metadata": {},
   "outputs": [],
   "source": []
  }
 ],
 "metadata": {
  "kernelspec": {
   "display_name": "Python 3",
   "language": "python",
   "name": "python3"
  },
  "language_info": {
   "codemirror_mode": {
    "name": "ipython",
    "version": 3
   },
   "file_extension": ".py",
   "mimetype": "text/x-python",
   "name": "python",
   "nbconvert_exporter": "python",
   "pygments_lexer": "ipython3",
   "version": "3.8.6"
  }
 },
 "nbformat": 4,
 "nbformat_minor": 5
}

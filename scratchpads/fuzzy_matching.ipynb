{
 "cells": [
  {
   "cell_type": "code",
   "execution_count": 1,
   "id": "enormous-jason",
   "metadata": {},
   "outputs": [],
   "source": [
    "from fuzzywuzzy import fuzz\n",
    "from fuzzywuzzy import process\n",
    "import sys"
   ]
  },
  {
   "cell_type": "code",
   "execution_count": 2,
   "id": "typical-exhaust",
   "metadata": {},
   "outputs": [],
   "source": [
    "sys.path.insert(0, \"/Users/samdillard/python/github.com/samhld/nba_stats/app/\")"
   ]
  },
  {
   "cell_type": "code",
   "execution_count": 3,
   "id": "statistical-marsh",
   "metadata": {},
   "outputs": [],
   "source": [
    "from scraper.getters import get_player_dict"
   ]
  },
  {
   "cell_type": "code",
   "execution_count": 4,
   "id": "municipal-finder",
   "metadata": {},
   "outputs": [
    {
     "data": {
      "text/plain": [
       "67"
      ]
     },
     "execution_count": 4,
     "metadata": {},
     "output_type": "execute_result"
    }
   ],
   "source": [
    "fuzz.ratio(\"Babbit\", \"Luke Babbitt\")"
   ]
  },
  {
   "cell_type": "code",
   "execution_count": 5,
   "id": "clean-summary",
   "metadata": {},
   "outputs": [
    {
     "data": {
      "text/plain": [
       "25"
      ]
     },
     "execution_count": 5,
     "metadata": {},
     "output_type": "execute_result"
    }
   ],
   "source": [
    "fuzz.partial_ratio(\"Bron\", \"Luke Babbitt\")"
   ]
  },
  {
   "cell_type": "code",
   "execution_count": 6,
   "id": "brief-issue",
   "metadata": {},
   "outputs": [
    {
     "data": {
      "text/plain": [
       "80"
      ]
     },
     "execution_count": 6,
     "metadata": {},
     "output_type": "execute_result"
    }
   ],
   "source": [
    "fuzz.partial_ratio(\"Babby\", \"Luke Babbitt\")"
   ]
  },
  {
   "cell_type": "code",
   "execution_count": 7,
   "id": "laden-wisdom",
   "metadata": {},
   "outputs": [
    {
     "data": {
      "text/plain": [
       "100"
      ]
     },
     "execution_count": 7,
     "metadata": {},
     "output_type": "execute_result"
    }
   ],
   "source": [
    "fuzz.partial_ratio(\"Bron\", \"LeBron James\")"
   ]
  },
  {
   "cell_type": "code",
   "execution_count": 8,
   "id": "aggressive-effort",
   "metadata": {},
   "outputs": [],
   "source": [
    "player_dict = get_player_dict()"
   ]
  },
  {
   "cell_type": "code",
   "execution_count": 9,
   "id": "heavy-breast",
   "metadata": {},
   "outputs": [
    {
     "data": {
      "text/plain": [
       "['roy ebron', 'lebron james']"
      ]
     },
     "execution_count": 9,
     "metadata": {},
     "output_type": "execute_result"
    }
   ],
   "source": [
    "input_name = \"bron\"\n",
    "matches = []\n",
    "for player in list(map(lambda player: player.lower(), player_dict.keys())):\n",
    "    if fuzz.partial_ratio(input_name, player) > 75:\n",
    "        matches.append(player)\n",
    "matches"
   ]
  },
  {
   "cell_type": "code",
   "execution_count": 10,
   "id": "usual-figure",
   "metadata": {},
   "outputs": [],
   "source": [
    "from scraper.getters import match_player_names"
   ]
  },
  {
   "cell_type": "code",
   "execution_count": 11,
   "id": "sharp-union",
   "metadata": {},
   "outputs": [
    {
     "ename": "TypeError",
     "evalue": "match_player_names() missing 1 required positional argument: 'player_dict'",
     "output_type": "error",
     "traceback": [
      "\u001b[0;31m---------------------------------------------------------------------------\u001b[0m",
      "\u001b[0;31mTypeError\u001b[0m                                 Traceback (most recent call last)",
      "\u001b[0;32m<ipython-input-11-67d0426a6728>\u001b[0m in \u001b[0;36m<module>\u001b[0;34m\u001b[0m\n\u001b[0;32m----> 1\u001b[0;31m \u001b[0mmatch_player_names\u001b[0m\u001b[0;34m(\u001b[0m\u001b[0;34m\"bron\"\u001b[0m\u001b[0;34m)\u001b[0m\u001b[0;34m\u001b[0m\u001b[0;34m\u001b[0m\u001b[0m\n\u001b[0m",
      "\u001b[0;31mTypeError\u001b[0m: match_player_names() missing 1 required positional argument: 'player_dict'"
     ]
    }
   ],
   "source": [
    "match_player_names(\"bron\")"
   ]
  },
  {
   "cell_type": "code",
   "execution_count": null,
   "id": "nervous-japan",
   "metadata": {},
   "outputs": [],
   "source": [
    "player_dict[\"LeBron James\"]"
   ]
  }
 ],
 "metadata": {
  "kernelspec": {
   "display_name": "Python 3",
   "language": "python",
   "name": "python3"
  },
  "language_info": {
   "codemirror_mode": {
    "name": "ipython",
    "version": 3
   },
   "file_extension": ".py",
   "mimetype": "text/x-python",
   "name": "python",
   "nbconvert_exporter": "python",
   "pygments_lexer": "ipython3",
   "version": "3.8.6"
  }
 },
 "nbformat": 4,
 "nbformat_minor": 5
}

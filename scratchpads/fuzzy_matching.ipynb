{
 "cells": [
  {
   "cell_type": "code",
   "execution_count": 1,
   "id": "golden-beijing",
   "metadata": {},
   "outputs": [],
   "source": [
    "from fuzzywuzzy import fuzz\n",
    "from fuzzywuzzy import process\n",
    "import sys"
   ]
  },
  {
   "cell_type": "code",
   "execution_count": 2,
   "id": "significant-couple",
   "metadata": {},
   "outputs": [],
   "source": [
    "sys.path.insert(0, \"/Users/samdillard/python/github.com/samhld/nba_stats/app/\")"
   ]
  },
  {
   "cell_type": "code",
   "execution_count": 3,
   "id": "surrounded-beverage",
   "metadata": {},
   "outputs": [],
   "source": [
    "from scraper.getters import get_player_dict"
   ]
  },
  {
   "cell_type": "code",
   "execution_count": 4,
   "id": "dressed-clinic",
   "metadata": {},
   "outputs": [
    {
     "data": {
      "text/plain": [
       "67"
      ]
     },
     "execution_count": 4,
     "metadata": {},
     "output_type": "execute_result"
    }
   ],
   "source": [
    "fuzz.ratio(\"Babbit\", \"Luke Babbitt\")"
   ]
  },
  {
   "cell_type": "code",
   "execution_count": 5,
   "id": "handy-folks",
   "metadata": {},
   "outputs": [
    {
     "data": {
      "text/plain": [
       "25"
      ]
     },
     "execution_count": 5,
     "metadata": {},
     "output_type": "execute_result"
    }
   ],
   "source": [
    "fuzz.partial_ratio(\"Bron\", \"Luke Babbitt\")"
   ]
  },
  {
   "cell_type": "code",
   "execution_count": 6,
   "id": "brazilian-filing",
   "metadata": {},
   "outputs": [
    {
     "data": {
      "text/plain": [
       "80"
      ]
     },
     "execution_count": 6,
     "metadata": {},
     "output_type": "execute_result"
    }
   ],
   "source": [
    "fuzz.partial_ratio(\"Babby\", \"Luke Babbitt\")"
   ]
  },
  {
   "cell_type": "code",
   "execution_count": 7,
   "id": "recorded-ambassador",
   "metadata": {},
   "outputs": [
    {
     "data": {
      "text/plain": [
       "100"
      ]
     },
     "execution_count": 7,
     "metadata": {},
     "output_type": "execute_result"
    }
   ],
   "source": [
    "fuzz.partial_ratio(\"Bron\", \"LeBron James\")"
   ]
  },
  {
   "cell_type": "code",
   "execution_count": 8,
   "id": "gothic-maine",
   "metadata": {},
   "outputs": [],
   "source": [
    "player_dict = get_player_dict()"
   ]
  },
  {
   "cell_type": "code",
   "execution_count": 9,
   "id": "standard-black",
   "metadata": {},
   "outputs": [
    {
     "data": {
      "text/plain": [
       "['roy ebron', 'lebron james']"
      ]
     },
     "execution_count": 9,
     "metadata": {},
     "output_type": "execute_result"
    }
   ],
   "source": [
    "input_name = \"bron\"\n",
    "matches = []\n",
    "for player in list(map(lambda player: player.lower(), player_dict.keys())):\n",
    "    if fuzz.partial_ratio(input_name, player) > 75:\n",
    "        matches.append(player)\n",
    "matches"
   ]
  },
  {
   "cell_type": "code",
   "execution_count": 10,
   "id": "twenty-least",
   "metadata": {},
   "outputs": [],
   "source": [
    "from scraper.getters import match_player_names"
   ]
  },
  {
   "cell_type": "code",
   "execution_count": 12,
   "id": "integrated-princess",
   "metadata": {},
   "outputs": [
    {
     "data": {
      "text/plain": [
       "['roy ebron', 'lebron james']"
      ]
     },
     "execution_count": 12,
     "metadata": {},
     "output_type": "execute_result"
    }
   ],
   "source": [
    "match_player_names(\"bron\", player_dict)"
   ]
  },
  {
   "cell_type": "code",
   "execution_count": null,
   "id": "racial-worcester",
   "metadata": {},
   "outputs": [],
   "source": [
    "player_dict[\"LeBron James\"]"
   ]
  }
 ],
 "metadata": {
  "kernelspec": {
   "display_name": "Python 3",
   "language": "python",
   "name": "python3"
  },
  "language_info": {
   "codemirror_mode": {
    "name": "ipython",
    "version": 3
   },
   "file_extension": ".py",
   "mimetype": "text/x-python",
   "name": "python",
   "nbconvert_exporter": "python",
   "pygments_lexer": "ipython3",
   "version": "3.8.6"
  }
 },
 "nbformat": 4,
 "nbformat_minor": 5
}

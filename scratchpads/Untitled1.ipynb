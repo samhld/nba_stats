{
 "cells": [
  {
   "cell_type": "code",
   "execution_count": 1,
   "id": "upper-speaking",
   "metadata": {},
   "outputs": [],
   "source": [
    "import sqlite3\n",
    "import sys\n",
    "import requests_cache\n",
    "import pandas as pd\n",
    "import requests\n",
    "from bs4 import BeautifulSoup"
   ]
  },
  {
   "cell_type": "code",
   "execution_count": 2,
   "id": "distinct-republic",
   "metadata": {},
   "outputs": [],
   "source": [
    "sys.path.insert(0, \"/Users/samdillard/python/github.com/samhld/nba_stats/app/\")\n",
    "requests_cache.install_cache()"
   ]
  },
  {
   "cell_type": "code",
   "execution_count": 3,
   "id": "settled-albuquerque",
   "metadata": {},
   "outputs": [],
   "source": [
    "from scraper import getters\n",
    "from preprocessor import builders\n",
    "from PandasBasketball.stats import player_stats\n",
    "from preprocessor.builders import create_all_player_stats_df"
   ]
  },
  {
   "cell_type": "code",
   "execution_count": 5,
   "id": "recovered-crazy",
   "metadata": {},
   "outputs": [],
   "source": [
    "# advanced_stats = create_all_player_stats_df(stat=\"advanced\")"
   ]
  },
  {
   "cell_type": "code",
   "execution_count": 5,
   "id": "knowing-information",
   "metadata": {},
   "outputs": [],
   "source": [
    "cache = requests_cache.get_cache()"
   ]
  },
  {
   "cell_type": "code",
   "execution_count": 49,
   "id": "municipal-independence",
   "metadata": {},
   "outputs": [],
   "source": [
    "cache.clear()"
   ]
  },
  {
   "cell_type": "code",
   "execution_count": 29,
   "id": "modified-voltage",
   "metadata": {},
   "outputs": [
    {
     "ename": "UnboundLocalError",
     "evalue": "local variable 'found' referenced before assignment",
     "output_type": "error",
     "traceback": [
      "\u001b[0;31m---------------------------------------------------------------------------\u001b[0m",
      "\u001b[0;31mUnboundLocalError\u001b[0m                         Traceback (most recent call last)",
      "\u001b[0;32m<ipython-input-29-ddd9c3a854ab>\u001b[0m in \u001b[0;36m<module>\u001b[0;34m\u001b[0m\n\u001b[1;32m     11\u001b[0m \u001b[0;34m\u001b[0m\u001b[0m\n\u001b[1;32m     12\u001b[0m \u001b[0;31m# not cache.has_url('http://www.basketball-reference.com/players/h/hortoed01.html')\u001b[0m\u001b[0;34m\u001b[0m\u001b[0;34m\u001b[0m\u001b[0;34m\u001b[0m\u001b[0m\n\u001b[0;32m---> 13\u001b[0;31m \u001b[0mfind_first_uncached_url\u001b[0m\u001b[0;34m(\u001b[0m\u001b[0mget_full_player_urls\u001b[0m\u001b[0;34m(\u001b[0m\u001b[0;34m)\u001b[0m\u001b[0;34m,\u001b[0m \u001b[0mcache\u001b[0m\u001b[0;34m)\u001b[0m\u001b[0;34m\u001b[0m\u001b[0;34m\u001b[0m\u001b[0m\n\u001b[0m",
      "\u001b[0;32m<ipython-input-29-ddd9c3a854ab>\u001b[0m in \u001b[0;36mfind_first_uncached_url\u001b[0;34m(urls, cache)\u001b[0m\n\u001b[1;32m      8\u001b[0m             \u001b[0mprint\u001b[0m\u001b[0;34m(\u001b[0m\u001b[0mfound\u001b[0m\u001b[0;34m)\u001b[0m\u001b[0;34m\u001b[0m\u001b[0;34m\u001b[0m\u001b[0m\n\u001b[1;32m      9\u001b[0m             \u001b[0mfound\u001b[0m \u001b[0;34m=\u001b[0m \u001b[0;34m(\u001b[0m\u001b[0midx\u001b[0m\u001b[0;34m,\u001b[0m \u001b[0murl\u001b[0m\u001b[0;34m)\u001b[0m\u001b[0;34m\u001b[0m\u001b[0;34m\u001b[0m\u001b[0m\n\u001b[0;32m---> 10\u001b[0;31m     \u001b[0;32mreturn\u001b[0m \u001b[0mfound\u001b[0m\u001b[0;34m\u001b[0m\u001b[0;34m\u001b[0m\u001b[0m\n\u001b[0m\u001b[1;32m     11\u001b[0m \u001b[0;34m\u001b[0m\u001b[0m\n\u001b[1;32m     12\u001b[0m \u001b[0;31m# not cache.has_url('http://www.basketball-reference.com/players/h/hortoed01.html')\u001b[0m\u001b[0;34m\u001b[0m\u001b[0;34m\u001b[0m\u001b[0;34m\u001b[0m\u001b[0m\n",
      "\u001b[0;31mUnboundLocalError\u001b[0m: local variable 'found' referenced before assignment"
     ]
    }
   ],
   "source": [
    "def check_cache_for_url(url, cache):\n",
    "    return cache.has_url('http://www.basketball-reference.com/players/h/horryro01.html')\n",
    "\n",
    "def find_first_uncached_url(urls, cache):\n",
    "\n",
    "    for idx, url in enumerate(urls):\n",
    "        if not cache.has_url(url):\n",
    "            print(found)\n",
    "            found = (idx, url)\n",
    "    return found\n",
    "\n",
    "# not cache.has_url('http://www.basketball-reference.com/players/h/hortoed01.html')\n",
    "# find_first_uncached_url(get_full_player_urls(), cache)"
   ]
  },
  {
   "cell_type": "code",
   "execution_count": 48,
   "id": "destroyed-italic",
   "metadata": {},
   "outputs": [
    {
     "data": {
      "text/plain": [
       "True"
      ]
     },
     "execution_count": 48,
     "metadata": {},
     "output_type": "execute_result"
    }
   ],
   "source": [
    "requests.get('http://www.basketball-reference.com/players/h/hortoed01.html').from_cache"
   ]
  },
  {
   "cell_type": "code",
   "execution_count": 7,
   "id": "reserved-flush",
   "metadata": {},
   "outputs": [],
   "source": [
    "from scraper.getters import get_full_player_urls, get_player_dict"
   ]
  },
  {
   "cell_type": "code",
   "execution_count": null,
   "id": "distant-graphic",
   "metadata": {},
   "outputs": [],
   "source": []
  }
 ],
 "metadata": {
  "kernelspec": {
   "display_name": "Python 3",
   "language": "python",
   "name": "python3"
  },
  "language_info": {
   "codemirror_mode": {
    "name": "ipython",
    "version": 3
   },
   "file_extension": ".py",
   "mimetype": "text/x-python",
   "name": "python",
   "nbconvert_exporter": "python",
   "pygments_lexer": "ipython3",
   "version": "3.8.6"
  }
 },
 "nbformat": 4,
 "nbformat_minor": 5
}

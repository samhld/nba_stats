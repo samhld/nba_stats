{
 "cells": [
  {
   "cell_type": "code",
   "execution_count": 3,
   "metadata": {},
   "outputs": [],
   "source": [
    "from bs4 import BeautifulSoup\n",
    "import requests\n",
    "import requests_cache\n",
    "import pandas as pd"
   ]
  },
  {
   "cell_type": "code",
   "execution_count": 4,
   "metadata": {},
   "outputs": [],
   "source": [
    "requests_cache.install_cache('request_cache')"
   ]
  },
  {
   "cell_type": "code",
   "execution_count": 5,
   "metadata": {},
   "outputs": [
    {
     "data": {
      "text/plain": [
       "[<th class=\"nowrap\">Round</th>,\n",
       " <th class=\"nowrap\"><a class=\"\" href='javascript:__doPostBack(\"SortRank\",\"\")' id=\"SortRank\">Rank</a></th>,\n",
       " <th class=\"nowrap\"><a class=\"tooltip-control\" data-placement=\"top\" data-toggle=\"tooltip\" href='javascript:__doPostBack(\"SortTotalValue\",\"\")' id=\"SortTotalValue\" title=\"Our Value for this player\">Value</a></th>]"
      ]
     },
     "execution_count": 5,
     "metadata": {},
     "output_type": "execute_result"
    }
   ],
   "source": [
    "url = \"https://basketballmonster.com/PlayerRankings.aspx\"\n",
    "r = requests.get(url)\n",
    "soup = BeautifulSoup(r.text, \"html.parser\")\n",
    "header = soup.find(\"thead\")\n",
    "header.find_all(\"th\")[:3]"
   ]
  },
  {
   "cell_type": "code",
   "execution_count": 6,
   "metadata": {},
   "outputs": [
    {
     "data": {
      "text/plain": [
       "['Round', 'Rank', 'Value', 'Name', 'Inj']"
      ]
     },
     "execution_count": 6,
     "metadata": {},
     "output_type": "execute_result"
    }
   ],
   "source": [
    "cols = [col.text if not col.a else col.a.text for col in header.find_all(\"th\")]\n",
    "cols[:5]"
   ]
  },
  {
   "cell_type": "code",
   "execution_count": 7,
   "metadata": {},
   "outputs": [],
   "source": [
    "# `<tbody></tbody>` Tag is loaded with Javascript so need to switch tooling here\n",
    "from requests_html import HTMLSession, AsyncHTMLSession"
   ]
  },
  {
   "cell_type": "code",
   "execution_count": 8,
   "metadata": {},
   "outputs": [],
   "source": [
    "import asyncio\n",
    "if asyncio.get_event_loop().is_running(): # Only patch if needed (i.e. running in Notebook, Spyder, etc)\n",
    "    import nest_asyncio\n",
    "    nest_asyncio.apply()"
   ]
  },
  {
   "cell_type": "code",
   "execution_count": 9,
   "metadata": {},
   "outputs": [],
   "source": [
    "asession = AsyncHTMLSession()\n",
    "r = await asession.get('https://basketballmonster.com/PlayerRankings.aspx')"
   ]
  },
  {
   "cell_type": "code",
   "execution_count": 10,
   "metadata": {},
   "outputs": [],
   "source": [
    "await r.html.arender()"
   ]
  },
  {
   "cell_type": "code",
   "execution_count": 11,
   "metadata": {},
   "outputs": [],
   "source": [
    "resp = r.html"
   ]
  },
  {
   "cell_type": "code",
   "execution_count": 12,
   "metadata": {},
   "outputs": [
    {
     "data": {
      "text/plain": [
       "requests_html.HTML"
      ]
     },
     "execution_count": 12,
     "metadata": {},
     "output_type": "execute_result"
    }
   ],
   "source": [
    "type(resp)"
   ]
  },
  {
   "cell_type": "code",
   "execution_count": 13,
   "metadata": {},
   "outputs": [],
   "source": [
    "tbody = resp.find('tbody')[0]"
   ]
  },
  {
   "cell_type": "code",
   "execution_count": 14,
   "metadata": {},
   "outputs": [
    {
     "data": {
      "text/plain": [
       "{}"
      ]
     },
     "execution_count": 14,
     "metadata": {},
     "output_type": "execute_result"
    }
   ],
   "source": [
    "tbody.attrs"
   ]
  },
  {
   "cell_type": "code",
   "execution_count": 15,
   "metadata": {},
   "outputs": [],
   "source": [
    "from selenium import webdriver\n",
    "from selenium.webdriver import ChromeOptions"
   ]
  },
  {
   "cell_type": "code",
   "execution_count": 16,
   "metadata": {},
   "outputs": [],
   "source": [
    "chromedriver = \"/Users/samdillard/Downloads/chromedriver\"\n",
    "options = ChromeOptions()\n",
    "options.add_argument('--headless')\n",
    "driver = webdriver.Chrome(chromedriver, options=options)"
   ]
  },
  {
   "cell_type": "code",
   "execution_count": 17,
   "metadata": {},
   "outputs": [],
   "source": [
    "driver.get('https://basketballmonster.com/PlayerRankings.aspx')"
   ]
  },
  {
   "cell_type": "code",
   "execution_count": 18,
   "metadata": {},
   "outputs": [],
   "source": [
    "from selenium.webdriver.support.wait import WebDriverWait"
   ]
  },
  {
   "cell_type": "code",
   "execution_count": 19,
   "metadata": {},
   "outputs": [],
   "source": [
    "wait = WebDriverWait"
   ]
  },
  {
   "cell_type": "code",
   "execution_count": 20,
   "metadata": {},
   "outputs": [],
   "source": [
    "button = driver.find_element_by_xpath(\"//input[@value='Export to Excel']\")"
   ]
  },
  {
   "cell_type": "code",
   "execution_count": 21,
   "metadata": {},
   "outputs": [
    {
     "data": {
      "text/plain": [
       "selenium.webdriver.remote.webelement.WebElement"
      ]
     },
     "execution_count": 21,
     "metadata": {},
     "output_type": "execute_result"
    }
   ],
   "source": [
    "type(button)"
   ]
  },
  {
   "cell_type": "code",
   "execution_count": 22,
   "metadata": {},
   "outputs": [],
   "source": [
    "try:\n",
    "    button.click()\n",
    "except:\n",
    "    print(\"fail\")"
   ]
  },
  {
   "cell_type": "markdown",
   "metadata": {},
   "source": [
    "## Temporarily using download CSV"
   ]
  },
  {
   "cell_type": "code",
   "execution_count": 23,
   "metadata": {},
   "outputs": [],
   "source": [
    "bbm = pd.read_csv(\"~/Downloads/BBM_PlayerRankings1.csv\")"
   ]
  },
  {
   "cell_type": "code",
   "execution_count": 24,
   "metadata": {},
   "outputs": [
    {
     "data": {
      "text/html": [
       "<div>\n",
       "<style scoped>\n",
       "    .dataframe tbody tr th:only-of-type {\n",
       "        vertical-align: middle;\n",
       "    }\n",
       "\n",
       "    .dataframe tbody tr th {\n",
       "        vertical-align: top;\n",
       "    }\n",
       "\n",
       "    .dataframe thead th {\n",
       "        text-align: right;\n",
       "    }\n",
       "</style>\n",
       "<table border=\"1\" class=\"dataframe\">\n",
       "  <thead>\n",
       "    <tr style=\"text-align: right;\">\n",
       "      <th></th>\n",
       "      <th>Round</th>\n",
       "      <th>Rank</th>\n",
       "      <th>Y!Adp9</th>\n",
       "      <th>Y!ORank</th>\n",
       "      <th>Y!%</th>\n",
       "      <th>Value</th>\n",
       "      <th>Name</th>\n",
       "      <th>Inj</th>\n",
       "      <th>Team</th>\n",
       "      <th>Pos</th>\n",
       "      <th>...</th>\n",
       "      <th>3V</th>\n",
       "      <th>rV</th>\n",
       "      <th>aV</th>\n",
       "      <th>sV</th>\n",
       "      <th>bV</th>\n",
       "      <th>fg%V</th>\n",
       "      <th>ft%V</th>\n",
       "      <th>orV</th>\n",
       "      <th>2dV</th>\n",
       "      <th>atoV</th>\n",
       "    </tr>\n",
       "  </thead>\n",
       "  <tbody>\n",
       "    <tr>\n",
       "      <th>0</th>\n",
       "      <td>1</td>\n",
       "      <td>1</td>\n",
       "      <td>3.0</td>\n",
       "      <td>4.0</td>\n",
       "      <td>100.0</td>\n",
       "      <td>1.060874</td>\n",
       "      <td>James Harden</td>\n",
       "      <td>NaN</td>\n",
       "      <td>HOU</td>\n",
       "      <td>G</td>\n",
       "      <td>...</td>\n",
       "      <td>2.842392</td>\n",
       "      <td>0.155915</td>\n",
       "      <td>1.827560</td>\n",
       "      <td>2.343359</td>\n",
       "      <td>0.372938</td>\n",
       "      <td>-1.118048</td>\n",
       "      <td>2.509516</td>\n",
       "      <td>-0.382300</td>\n",
       "      <td>0.638844</td>\n",
       "      <td>-0.597206</td>\n",
       "    </tr>\n",
       "    <tr>\n",
       "      <th>1</th>\n",
       "      <td>1</td>\n",
       "      <td>2</td>\n",
       "      <td>4.0</td>\n",
       "      <td>2.0</td>\n",
       "      <td>98.0</td>\n",
       "      <td>0.931042</td>\n",
       "      <td>Karl-Anthony Towns</td>\n",
       "      <td>NaN</td>\n",
       "      <td>MIN</td>\n",
       "      <td>C</td>\n",
       "      <td>...</td>\n",
       "      <td>1.738033</td>\n",
       "      <td>1.766628</td>\n",
       "      <td>0.357258</td>\n",
       "      <td>-0.094398</td>\n",
       "      <td>0.948741</td>\n",
       "      <td>0.838063</td>\n",
       "      <td>0.167021</td>\n",
       "      <td>1.401427</td>\n",
       "      <td>2.386989</td>\n",
       "      <td>-1.033760</td>\n",
       "    </tr>\n",
       "    <tr>\n",
       "      <th>2</th>\n",
       "      <td>1</td>\n",
       "      <td>3</td>\n",
       "      <td>2.0</td>\n",
       "      <td>1.0</td>\n",
       "      <td>100.0</td>\n",
       "      <td>0.918482</td>\n",
       "      <td>Anthony Davis</td>\n",
       "      <td>NaN</td>\n",
       "      <td>LAL</td>\n",
       "      <td>F</td>\n",
       "      <td>...</td>\n",
       "      <td>-0.292445</td>\n",
       "      <td>1.193283</td>\n",
       "      <td>-0.176123</td>\n",
       "      <td>1.334654</td>\n",
       "      <td>2.954420</td>\n",
       "      <td>0.691253</td>\n",
       "      <td>1.358957</td>\n",
       "      <td>0.935514</td>\n",
       "      <td>1.334909</td>\n",
       "      <td>-0.936635</td>\n",
       "    </tr>\n",
       "  </tbody>\n",
       "</table>\n",
       "<p>3 rows × 37 columns</p>\n",
       "</div>"
      ],
      "text/plain": [
       "   Round  Rank  Y!Adp9  Y!ORank    Y!%     Value                Name  Inj  \\\n",
       "0      1     1     3.0      4.0  100.0  1.060874        James Harden  NaN   \n",
       "1      1     2     4.0      2.0   98.0  0.931042  Karl-Anthony Towns  NaN   \n",
       "2      1     3     2.0      1.0  100.0  0.918482       Anthony Davis  NaN   \n",
       "\n",
       "  Team Pos  ...        3V        rV        aV        sV        bV      fg%V  \\\n",
       "0  HOU   G  ...  2.842392  0.155915  1.827560  2.343359  0.372938 -1.118048   \n",
       "1  MIN   C  ...  1.738033  1.766628  0.357258 -0.094398  0.948741  0.838063   \n",
       "2  LAL   F  ... -0.292445  1.193283 -0.176123  1.334654  2.954420  0.691253   \n",
       "\n",
       "       ft%V       orV       2dV      atoV  \n",
       "0  2.509516 -0.382300  0.638844 -0.597206  \n",
       "1  0.167021  1.401427  2.386989 -1.033760  \n",
       "2  1.358957  0.935514  1.334909 -0.936635  \n",
       "\n",
       "[3 rows x 37 columns]"
      ]
     },
     "execution_count": 24,
     "metadata": {},
     "output_type": "execute_result"
    }
   ],
   "source": [
    "bbm.head(3)"
   ]
  },
  {
   "cell_type": "code",
   "execution_count": 25,
   "metadata": {},
   "outputs": [
    {
     "data": {
      "text/plain": [
       "Index(['Round', 'Rank', 'Y!Adp9', 'Y!ORank', 'Y!%', 'Value', 'Name', 'Inj',\n",
       "       'Team', 'Pos', 'g', 'm/g', 'p/g', '3/g', 'r/g', 'a/g', 's/g', 'b/g',\n",
       "       'fg%', 'fga/g', 'ft%', 'fta/g', 'or/g', '2d/g', 'ato', 'a+to/g', 'pV',\n",
       "       '3V', 'rV', 'aV', 'sV', 'bV', 'fg%V', 'ft%V', 'orV', '2dV', 'atoV'],\n",
       "      dtype='object')"
      ]
     },
     "execution_count": 25,
     "metadata": {},
     "output_type": "execute_result"
    }
   ],
   "source": [
    "bbm.columns"
   ]
  },
  {
   "cell_type": "code",
   "execution_count": 26,
   "metadata": {},
   "outputs": [
    {
     "data": {
      "text/plain": [
       "pandas.core.indexes.base.Index"
      ]
     },
     "execution_count": 26,
     "metadata": {},
     "output_type": "execute_result"
    }
   ],
   "source": [
    "bbm_value = bbm.drop(labels=['Inj','Team','p/g','3/g','r/g','a/g','s/g','b/g','2d/g','a+to/g'], axis=1)\n",
    "type(bbm_value.columns)"
   ]
  },
  {
   "cell_type": "code",
   "execution_count": 27,
   "metadata": {},
   "outputs": [],
   "source": [
    "bbm_final = bbm_value[[i for i in list(bbm_value.columns) if not i.startswith(\"Y!\")]]"
   ]
  },
  {
   "cell_type": "code",
   "execution_count": 28,
   "metadata": {
    "scrolled": true
   },
   "outputs": [
    {
     "data": {
      "text/html": [
       "<div>\n",
       "<style scoped>\n",
       "    .dataframe tbody tr th:only-of-type {\n",
       "        vertical-align: middle;\n",
       "    }\n",
       "\n",
       "    .dataframe tbody tr th {\n",
       "        vertical-align: top;\n",
       "    }\n",
       "\n",
       "    .dataframe thead th {\n",
       "        text-align: right;\n",
       "    }\n",
       "</style>\n",
       "<table border=\"1\" class=\"dataframe\">\n",
       "  <thead>\n",
       "    <tr style=\"text-align: right;\">\n",
       "      <th></th>\n",
       "      <th>Round</th>\n",
       "      <th>Rank</th>\n",
       "      <th>Value</th>\n",
       "      <th>Name</th>\n",
       "      <th>Pos</th>\n",
       "      <th>g</th>\n",
       "      <th>m/g</th>\n",
       "      <th>fg%</th>\n",
       "      <th>fga/g</th>\n",
       "      <th>ft%</th>\n",
       "      <th>...</th>\n",
       "      <th>3V</th>\n",
       "      <th>rV</th>\n",
       "      <th>aV</th>\n",
       "      <th>sV</th>\n",
       "      <th>bV</th>\n",
       "      <th>fg%V</th>\n",
       "      <th>ft%V</th>\n",
       "      <th>orV</th>\n",
       "      <th>2dV</th>\n",
       "      <th>atoV</th>\n",
       "    </tr>\n",
       "  </thead>\n",
       "  <tbody>\n",
       "    <tr>\n",
       "      <th>0</th>\n",
       "      <td>1</td>\n",
       "      <td>1</td>\n",
       "      <td>1.060874</td>\n",
       "      <td>James Harden</td>\n",
       "      <td>G</td>\n",
       "      <td>68</td>\n",
       "      <td>36.507843</td>\n",
       "      <td>0.443857</td>\n",
       "      <td>22.264706</td>\n",
       "      <td>0.865000</td>\n",
       "      <td>...</td>\n",
       "      <td>2.842392</td>\n",
       "      <td>0.155915</td>\n",
       "      <td>1.827560</td>\n",
       "      <td>2.343359</td>\n",
       "      <td>0.372938</td>\n",
       "      <td>-1.118048</td>\n",
       "      <td>2.509516</td>\n",
       "      <td>-0.382300</td>\n",
       "      <td>0.638844</td>\n",
       "      <td>-0.597206</td>\n",
       "    </tr>\n",
       "    <tr>\n",
       "      <th>1</th>\n",
       "      <td>1</td>\n",
       "      <td>2</td>\n",
       "      <td>0.931042</td>\n",
       "      <td>Karl-Anthony Towns</td>\n",
       "      <td>C</td>\n",
       "      <td>35</td>\n",
       "      <td>33.913810</td>\n",
       "      <td>0.508039</td>\n",
       "      <td>17.771429</td>\n",
       "      <td>0.796460</td>\n",
       "      <td>...</td>\n",
       "      <td>1.738033</td>\n",
       "      <td>1.766628</td>\n",
       "      <td>0.357258</td>\n",
       "      <td>-0.094398</td>\n",
       "      <td>0.948741</td>\n",
       "      <td>0.838063</td>\n",
       "      <td>0.167021</td>\n",
       "      <td>1.401427</td>\n",
       "      <td>2.386989</td>\n",
       "      <td>-1.033760</td>\n",
       "    </tr>\n",
       "    <tr>\n",
       "      <th>2</th>\n",
       "      <td>1</td>\n",
       "      <td>3</td>\n",
       "      <td>0.918482</td>\n",
       "      <td>Anthony Davis</td>\n",
       "      <td>F</td>\n",
       "      <td>62</td>\n",
       "      <td>34.377151</td>\n",
       "      <td>0.502737</td>\n",
       "      <td>17.677419</td>\n",
       "      <td>0.845714</td>\n",
       "      <td>...</td>\n",
       "      <td>-0.292445</td>\n",
       "      <td>1.193283</td>\n",
       "      <td>-0.176123</td>\n",
       "      <td>1.334654</td>\n",
       "      <td>2.954420</td>\n",
       "      <td>0.691253</td>\n",
       "      <td>1.358957</td>\n",
       "      <td>0.935514</td>\n",
       "      <td>1.334909</td>\n",
       "      <td>-0.936635</td>\n",
       "    </tr>\n",
       "    <tr>\n",
       "      <th>3</th>\n",
       "      <td>1</td>\n",
       "      <td>4</td>\n",
       "      <td>0.861658</td>\n",
       "      <td>LeBron James</td>\n",
       "      <td>G</td>\n",
       "      <td>67</td>\n",
       "      <td>34.571891</td>\n",
       "      <td>0.493477</td>\n",
       "      <td>19.447761</td>\n",
       "      <td>0.692913</td>\n",
       "      <td>...</td>\n",
       "      <td>0.722541</td>\n",
       "      <td>0.640893</td>\n",
       "      <td>3.075108</td>\n",
       "      <td>0.508174</td>\n",
       "      <td>-0.252520</td>\n",
       "      <td>0.487852</td>\n",
       "      <td>-1.460370</td>\n",
       "      <td>-0.445039</td>\n",
       "      <td>2.391105</td>\n",
       "      <td>2.230345</td>\n",
       "    </tr>\n",
       "    <tr>\n",
       "      <th>4</th>\n",
       "      <td>1</td>\n",
       "      <td>5</td>\n",
       "      <td>0.839110</td>\n",
       "      <td>Damian Lillard</td>\n",
       "      <td>G</td>\n",
       "      <td>67</td>\n",
       "      <td>37.591542</td>\n",
       "      <td>0.461877</td>\n",
       "      <td>20.358209</td>\n",
       "      <td>0.890977</td>\n",
       "      <td>...</td>\n",
       "      <td>2.558937</td>\n",
       "      <td>-0.713844</td>\n",
       "      <td>2.074453</td>\n",
       "      <td>0.223723</td>\n",
       "      <td>-0.631296</td>\n",
       "      <td>-0.465930</td>\n",
       "      <td>2.254654</td>\n",
       "      <td>-0.950673</td>\n",
       "      <td>0.518072</td>\n",
       "      <td>2.009705</td>\n",
       "    </tr>\n",
       "  </tbody>\n",
       "</table>\n",
       "<p>5 rows × 24 columns</p>\n",
       "</div>"
      ],
      "text/plain": [
       "   Round  Rank     Value                Name Pos   g        m/g       fg%  \\\n",
       "0      1     1  1.060874        James Harden   G  68  36.507843  0.443857   \n",
       "1      1     2  0.931042  Karl-Anthony Towns   C  35  33.913810  0.508039   \n",
       "2      1     3  0.918482       Anthony Davis   F  62  34.377151  0.502737   \n",
       "3      1     4  0.861658        LeBron James   G  67  34.571891  0.493477   \n",
       "4      1     5  0.839110      Damian Lillard   G  67  37.591542  0.461877   \n",
       "\n",
       "       fga/g       ft%  ...        3V        rV        aV        sV        bV  \\\n",
       "0  22.264706  0.865000  ...  2.842392  0.155915  1.827560  2.343359  0.372938   \n",
       "1  17.771429  0.796460  ...  1.738033  1.766628  0.357258 -0.094398  0.948741   \n",
       "2  17.677419  0.845714  ... -0.292445  1.193283 -0.176123  1.334654  2.954420   \n",
       "3  19.447761  0.692913  ...  0.722541  0.640893  3.075108  0.508174 -0.252520   \n",
       "4  20.358209  0.890977  ...  2.558937 -0.713844  2.074453  0.223723 -0.631296   \n",
       "\n",
       "       fg%V      ft%V       orV       2dV      atoV  \n",
       "0 -1.118048  2.509516 -0.382300  0.638844 -0.597206  \n",
       "1  0.838063  0.167021  1.401427  2.386989 -1.033760  \n",
       "2  0.691253  1.358957  0.935514  1.334909 -0.936635  \n",
       "3  0.487852 -1.460370 -0.445039  2.391105  2.230345  \n",
       "4 -0.465930  2.254654 -0.950673  0.518072  2.009705  \n",
       "\n",
       "[5 rows x 24 columns]"
      ]
     },
     "execution_count": 28,
     "metadata": {},
     "output_type": "execute_result"
    }
   ],
   "source": [
    "bbm_final.head(5)"
   ]
  },
  {
   "cell_type": "code",
   "execution_count": 33,
   "metadata": {
    "scrolled": false
   },
   "outputs": [
    {
     "data": {
      "text/html": [
       "<div>\n",
       "<style scoped>\n",
       "    .dataframe tbody tr th:only-of-type {\n",
       "        vertical-align: middle;\n",
       "    }\n",
       "\n",
       "    .dataframe tbody tr th {\n",
       "        vertical-align: top;\n",
       "    }\n",
       "\n",
       "    .dataframe thead th {\n",
       "        text-align: right;\n",
       "    }\n",
       "</style>\n",
       "<table border=\"1\" class=\"dataframe\">\n",
       "  <thead>\n",
       "    <tr style=\"text-align: right;\">\n",
       "      <th></th>\n",
       "      <th>Round</th>\n",
       "      <th>Rank</th>\n",
       "      <th>Value</th>\n",
       "      <th>Name</th>\n",
       "      <th>Pos</th>\n",
       "      <th>g</th>\n",
       "      <th>m/g</th>\n",
       "      <th>fg%</th>\n",
       "      <th>fga/g</th>\n",
       "      <th>ft%</th>\n",
       "      <th>...</th>\n",
       "      <th>3V</th>\n",
       "      <th>rV</th>\n",
       "      <th>aV</th>\n",
       "      <th>sV</th>\n",
       "      <th>bV</th>\n",
       "      <th>fg%V</th>\n",
       "      <th>ft%V</th>\n",
       "      <th>orV</th>\n",
       "      <th>2dV</th>\n",
       "      <th>atoV</th>\n",
       "    </tr>\n",
       "  </thead>\n",
       "  <tbody>\n",
       "    <tr>\n",
       "      <th>87</th>\n",
       "      <td>8</td>\n",
       "      <td>88</td>\n",
       "      <td>-0.148578</td>\n",
       "      <td>Derrick Rose</td>\n",
       "      <td>G</td>\n",
       "      <td>50</td>\n",
       "      <td>25.952333</td>\n",
       "      <td>0.490040</td>\n",
       "      <td>15.060000</td>\n",
       "      <td>0.870504</td>\n",
       "      <td>...</td>\n",
       "      <td>-0.545585</td>\n",
       "      <td>-1.415927</td>\n",
       "      <td>0.910636</td>\n",
       "      <td>-0.483340</td>\n",
       "      <td>-0.646447</td>\n",
       "      <td>0.297150</td>\n",
       "      <td>0.630204</td>\n",
       "      <td>-0.900425</td>\n",
       "      <td>-0.536590</td>\n",
       "      <td>0.684210</td>\n",
       "    </tr>\n",
       "    <tr>\n",
       "      <th>86</th>\n",
       "      <td>8</td>\n",
       "      <td>87</td>\n",
       "      <td>-0.143122</td>\n",
       "      <td>Tomas Satoransky</td>\n",
       "      <td>G</td>\n",
       "      <td>65</td>\n",
       "      <td>28.891026</td>\n",
       "      <td>0.430127</td>\n",
       "      <td>8.476923</td>\n",
       "      <td>0.876033</td>\n",
       "      <td>...</td>\n",
       "      <td>-0.463609</td>\n",
       "      <td>-0.850931</td>\n",
       "      <td>0.857632</td>\n",
       "      <td>0.689472</td>\n",
       "      <td>-1.031300</td>\n",
       "      <td>-0.608012</td>\n",
       "      <td>0.448117</td>\n",
       "      <td>-0.234277</td>\n",
       "      <td>-0.699954</td>\n",
       "      <td>1.306399</td>\n",
       "    </tr>\n",
       "    <tr>\n",
       "      <th>84</th>\n",
       "      <td>8</td>\n",
       "      <td>85</td>\n",
       "      <td>-0.135588</td>\n",
       "      <td>Eric Bledsoe</td>\n",
       "      <td>G</td>\n",
       "      <td>61</td>\n",
       "      <td>26.988525</td>\n",
       "      <td>0.473759</td>\n",
       "      <td>11.557377</td>\n",
       "      <td>0.789720</td>\n",
       "      <td>...</td>\n",
       "      <td>-0.242237</td>\n",
       "      <td>-0.566839</td>\n",
       "      <td>0.825458</td>\n",
       "      <td>-0.117352</td>\n",
       "      <td>-0.424167</td>\n",
       "      <td>-0.059829</td>\n",
       "      <td>0.023499</td>\n",
       "      <td>-0.691121</td>\n",
       "      <td>-0.764472</td>\n",
       "      <td>0.677166</td>\n",
       "    </tr>\n",
       "    <tr>\n",
       "      <th>135</th>\n",
       "      <td>12</td>\n",
       "      <td>136</td>\n",
       "      <td>-0.336811</td>\n",
       "      <td>Jeff Teague</td>\n",
       "      <td>G</td>\n",
       "      <td>59</td>\n",
       "      <td>24.818644</td>\n",
       "      <td>0.435583</td>\n",
       "      <td>8.288136</td>\n",
       "      <td>0.873096</td>\n",
       "      <td>...</td>\n",
       "      <td>-0.711432</td>\n",
       "      <td>-1.420948</td>\n",
       "      <td>0.752496</td>\n",
       "      <td>-0.631007</td>\n",
       "      <td>-0.642760</td>\n",
       "      <td>-0.525996</td>\n",
       "      <td>0.781741</td>\n",
       "      <td>-0.987631</td>\n",
       "      <td>-0.677300</td>\n",
       "      <td>1.186624</td>\n",
       "    </tr>\n",
       "    <tr>\n",
       "      <th>102</th>\n",
       "      <td>9</td>\n",
       "      <td>103</td>\n",
       "      <td>-0.258368</td>\n",
       "      <td>Joe Ingles</td>\n",
       "      <td>F</td>\n",
       "      <td>72</td>\n",
       "      <td>29.674537</td>\n",
       "      <td>0.444846</td>\n",
       "      <td>7.680556</td>\n",
       "      <td>0.787234</td>\n",
       "      <td>...</td>\n",
       "      <td>0.479736</td>\n",
       "      <td>-0.868622</td>\n",
       "      <td>0.733974</td>\n",
       "      <td>-0.203518</td>\n",
       "      <td>-0.949573</td>\n",
       "      <td>-0.380037</td>\n",
       "      <td>-0.003846</td>\n",
       "      <td>-1.075106</td>\n",
       "      <td>-0.721612</td>\n",
       "      <td>1.149110</td>\n",
       "    </tr>\n",
       "  </tbody>\n",
       "</table>\n",
       "<p>5 rows × 24 columns</p>\n",
       "</div>"
      ],
      "text/plain": [
       "     Round  Rank     Value              Name Pos   g        m/g       fg%  \\\n",
       "87       8    88 -0.148578      Derrick Rose   G  50  25.952333  0.490040   \n",
       "86       8    87 -0.143122  Tomas Satoransky   G  65  28.891026  0.430127   \n",
       "84       8    85 -0.135588      Eric Bledsoe   G  61  26.988525  0.473759   \n",
       "135     12   136 -0.336811       Jeff Teague   G  59  24.818644  0.435583   \n",
       "102      9   103 -0.258368        Joe Ingles   F  72  29.674537  0.444846   \n",
       "\n",
       "         fga/g       ft%  ...        3V        rV        aV        sV  \\\n",
       "87   15.060000  0.870504  ... -0.545585 -1.415927  0.910636 -0.483340   \n",
       "86    8.476923  0.876033  ... -0.463609 -0.850931  0.857632  0.689472   \n",
       "84   11.557377  0.789720  ... -0.242237 -0.566839  0.825458 -0.117352   \n",
       "135   8.288136  0.873096  ... -0.711432 -1.420948  0.752496 -0.631007   \n",
       "102   7.680556  0.787234  ...  0.479736 -0.868622  0.733974 -0.203518   \n",
       "\n",
       "           bV      fg%V      ft%V       orV       2dV      atoV  \n",
       "87  -0.646447  0.297150  0.630204 -0.900425 -0.536590  0.684210  \n",
       "86  -1.031300 -0.608012  0.448117 -0.234277 -0.699954  1.306399  \n",
       "84  -0.424167 -0.059829  0.023499 -0.691121 -0.764472  0.677166  \n",
       "135 -0.642760 -0.525996  0.781741 -0.987631 -0.677300  1.186624  \n",
       "102 -0.949573 -0.380037 -0.003846 -1.075106 -0.721612  1.149110  \n",
       "\n",
       "[5 rows x 24 columns]"
      ]
     },
     "execution_count": 33,
     "metadata": {},
     "output_type": "execute_result"
    }
   ],
   "source": [
    "bbm_final.sort_values(by=['aV','ft%V','3V'], ascending=False).iloc[30:65].head(5)"
   ]
  },
  {
   "cell_type": "code",
   "execution_count": 30,
   "metadata": {},
   "outputs": [],
   "source": [
    "# new_df = bbm_final.reindex(bbm_final['Name'], axis=0)\n",
    "players = bbm_value['Name']\n",
    "new_df = pd.DataFrame(bbm_value, index=players)\n"
   ]
  },
  {
   "cell_type": "code",
   "execution_count": 31,
   "metadata": {},
   "outputs": [],
   "source": [
    "def place(player, bbm_final):\n",
    "#     team_df = team_df.append(bbm_final[(bbm_final['Name'] == f\"{player}\")])\n",
    "    index = bbm_final[bbm_final.Name == f\"{player}\"][0]\n",
    "    print(index)\n",
    "    bbm_final.drop(bb)\n"
   ]
  },
  {
   "cell_type": "code",
   "execution_count": 32,
   "metadata": {},
   "outputs": [
    {
     "ename": "SyntaxError",
     "evalue": "closing parenthesis ')' does not match opening parenthesis '[' (<ipython-input-32-9d5fba950e49>, line 3)",
     "output_type": "error",
     "traceback": [
      "\u001b[0;36m  File \u001b[0;32m\"<ipython-input-32-9d5fba950e49>\"\u001b[0;36m, line \u001b[0;32m3\u001b[0m\n\u001b[0;31m    new_df = bbm_final[bbm_final.iloc[index])]\u001b[0m\n\u001b[0m                                            ^\u001b[0m\n\u001b[0;31mSyntaxError\u001b[0m\u001b[0;31m:\u001b[0m closing parenthesis ')' does not match opening parenthesis '['\n"
     ]
    }
   ],
   "source": [
    "# place(\"James Harden\", bbm_final)\n",
    "index = 4\n",
    "new_df = bbm_final[bbm_final.iloc[index])]\n"
   ]
  },
  {
   "cell_type": "code",
   "execution_count": null,
   "metadata": {},
   "outputs": [],
   "source": [
    "index = bbm_final[bbm_final.Name == \"Damian Lillard\"].index.values"
   ]
  },
  {
   "cell_type": "code",
   "execution_count": null,
   "metadata": {},
   "outputs": [],
   "source": [
    "index[0]"
   ]
  },
  {
   "cell_type": "code",
   "execution_count": null,
   "metadata": {},
   "outputs": [],
   "source": []
  }
 ],
 "metadata": {
  "kernelspec": {
   "display_name": "Python 3",
   "language": "python",
   "name": "python3"
  },
  "language_info": {
   "codemirror_mode": {
    "name": "ipython",
    "version": 3
   },
   "file_extension": ".py",
   "mimetype": "text/x-python",
   "name": "python",
   "nbconvert_exporter": "python",
   "pygments_lexer": "ipython3",
   "version": "3.8.6"
  }
 },
 "nbformat": 4,
 "nbformat_minor": 4
}
